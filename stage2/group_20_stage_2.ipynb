{
 "cells": [
  {
   "cell_type": "markdown",
   "metadata": {},
   "source": [
    "# ENGR 418 Project - Stage 2\n",
    "## Sorting lego blocks using image data"
   ]
  },
  {
   "cell_type": "markdown",
   "metadata": {},
   "source": [
    "- Group #20\n",
    "- Jesse Alele 82807728\n",
    "- Zach Kelly 41637836"
   ]
  },
  {
   "attachments": {},
   "cell_type": "markdown",
   "metadata": {},
   "source": [
    "### Import Statements"
   ]
  },
  {
   "cell_type": "code",
   "execution_count": 49,
   "metadata": {},
   "outputs": [],
   "source": [
    "import numpy as np \n",
    "import matplotlib.pyplot as plt\n",
    "import os\n",
    "from sklearn.linear_model import LogisticRegression\n",
    "from sklearn.metrics import confusion_matrix, accuracy_score\n",
    "from skimage import feature\n",
    "from skimage.io import imread, imshow\n",
    "from skimage.transform import resize\n",
    "\n",
    "import pandas as pd"
   ]
  },
  {
   "attachments": {},
   "cell_type": "markdown",
   "metadata": {},
   "source": [
    "### Feature Extraction"
   ]
  },
  {
   "cell_type": "code",
   "execution_count": 55,
   "metadata": {},
   "outputs": [],
   "source": [
    "# def feature_extractor(path):\n",
    "\n",
    "folder = r\"C:\\Users\\zachk\\Documents\\ubco\\year5\\ubc_term1\\engr418\\project\\stage2\\lego_dataset_2\\training\"\n",
    "\n",
    "im_size = 100\n",
    "file_names = os.listdir(folder)\n",
    "x = []\n",
    "\n",
    "for i in range(len(file_names)):            \n",
    "    dir = os.path.join(folder,file_names[i])\n",
    "    im = imread(dir,as_gray=True)  # collects RGB data from an image in a form of 3D array. Since it's grayscaled, its truncated into a 2D data array.\n",
    "    im = resize(im, (100, 100))             # resize the image to 100x100 pixels\n",
    "    im = feature.canny(image=im, sigma=5, low_threshold=0.001, high_threshold=0.07) # find edges in image using canny algorithm\n",
    "\n",
    "    # get dimensions of image\n",
    "    im_height = im.shape[0]\n",
    "    im_width = im.shape[1]\n",
    "\n",
    "\n",
    "    for row in range(im_height): # iterate row by row through the image\n",
    "        first_edge = 0\n",
    "        last_edge = 0\n",
    "        for col in range(im_width): # iterate through the pixels in the current row\n",
    "            # if the pixel is an edge store as first edge and break loop\n",
    "            if(im[row][col] == True): \n",
    "                first_edge = col\n",
    "                break\n",
    "        \n",
    "        for col in range(im_width): # iterate through the pixels in the current row\n",
    "            # if the pixel is an edge store as last_edge, iterate until out of range therefore the last instance of an edge pixel will replace value in last_edge \n",
    "            if(im[row][col] == True):\n",
    "                last_edge = col\n",
    "            "
   ]
  },
  {
   "attachments": {},
   "cell_type": "markdown",
   "metadata": {},
   "source": [
    "### Label Extraction"
   ]
  },
  {
   "cell_type": "code",
   "execution_count": 47,
   "metadata": {},
   "outputs": [
    {
     "data": {
      "text/plain": [
       "range(0, 100)"
      ]
     },
     "execution_count": 47,
     "metadata": {},
     "output_type": "execute_result"
    }
   ],
   "source": []
  },
  {
   "attachments": {},
   "cell_type": "markdown",
   "metadata": {},
   "source": [
    "### Classifier"
   ]
  },
  {
   "cell_type": "code",
   "execution_count": null,
   "metadata": {},
   "outputs": [],
   "source": []
  },
  {
   "attachments": {},
   "cell_type": "markdown",
   "metadata": {},
   "source": [
    "### Model Training"
   ]
  },
  {
   "cell_type": "code",
   "execution_count": null,
   "metadata": {},
   "outputs": [],
   "source": []
  },
  {
   "attachments": {},
   "cell_type": "markdown",
   "metadata": {},
   "source": [
    "### Accuracy on Training Set"
   ]
  },
  {
   "cell_type": "code",
   "execution_count": null,
   "metadata": {},
   "outputs": [],
   "source": []
  },
  {
   "attachments": {},
   "cell_type": "markdown",
   "metadata": {},
   "source": [
    "### Accuracy on Test Set"
   ]
  },
  {
   "cell_type": "code",
   "execution_count": null,
   "metadata": {},
   "outputs": [],
   "source": []
  },
  {
   "cell_type": "markdown",
   "metadata": {},
   "source": [
    "Define function to get training and testing data from raw image files"
   ]
  },
  {
   "cell_type": "code",
   "execution_count": null,
   "metadata": {},
   "outputs": [],
   "source": [
    "im_width = int(np.sqrt(4067)) \n",
    "im_length = int(np.sqrt(4067))\n",
    "\n",
    "def get_data(folder, im_width, im_length):\n",
    "\n",
    "    # create list of file names inside folder\n",
    "    file_names = os.listdir(folder)\n",
    "    # intialize np array to store feature data\n",
    "    x = np.empty((len(file_names),im_width*im_length))\n",
    "    # initialize np array to store class labels\n",
    "    y = np.empty((len(file_names),1))\n",
    "    \n",
    "    num_cir = 0 # number of images that are labelled as class circle\n",
    "    num_rec = 0 # number of images that are labelled as class rectangle\n",
    "    num_squ = 0 # number of images that are labelled as class square\n",
    "    \n",
    "    for i in range(len(file_names)):\n",
    "       \n",
    "        # fill class labels array\n",
    "        if 'cir' in file_names[i]:\n",
    "            y[i] = 0 # class circle\n",
    "            num_cir = num_cir + 1 # keep running count of circle labels\n",
    "        elif 'rec' in file_names[i]:\n",
    "            y[i] = 1 # class rectangle\n",
    "            num_rec = num_rec + 1 # keep running count of rectangle labels\n",
    "        elif 'squ' in file_names[i]:\n",
    "            y[i] = 2 # class square\n",
    "            num_squ = num_squ + 1 # keep running count of square labels\n",
    "            \n",
    "        # fill feature array\n",
    "        path = folder + '/' + file_names[i] # update path as we iterate through file_names array\n",
    "        im = Image.open(path).convert('L') # open ith image and convert to grayscale\n",
    "        im = im.resize((im_length,im_width)) # resize to specified pixel length and width\n",
    "        im_array = asarray(im) # convert to numpy array\n",
    "        x[i,:] = im_array.reshape(1,-1) # reshape to im_length*im_width columns by one row then insert as ith row in x\n",
    "    \n",
    "    y = np.ravel(y)\n",
    "\n",
    "    # assure the folder contains an equal count of each different shape, so only one variable (num_shape) is needed to seperate the shapes in class labels array\n",
    "    if num_cir == num_rec == num_squ:\n",
    "        num_shape = num_cir\n",
    "    else:\n",
    "        print('The number of circles, rectangles and squares in the specified folder are not equal')\n",
    "\n",
    "    return x, y, num_shape"
   ]
  }
 ],
 "metadata": {
  "kernelspec": {
   "display_name": "Python 3.10.5 64-bit",
   "language": "python",
   "name": "python3"
  },
  "language_info": {
   "codemirror_mode": {
    "name": "ipython",
    "version": 3
   },
   "file_extension": ".py",
   "mimetype": "text/x-python",
   "name": "python",
   "nbconvert_exporter": "python",
   "pygments_lexer": "ipython3",
   "version": "3.10.5"
  },
  "orig_nbformat": 4,
  "vscode": {
   "interpreter": {
    "hash": "42165681ab10b1bf977adfd89e4bba52bb1422075634ab4a5613df7b4316a888"
   }
  }
 },
 "nbformat": 4,
 "nbformat_minor": 2
}
