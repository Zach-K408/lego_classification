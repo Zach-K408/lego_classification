{
 "cells": [
  {
   "cell_type": "markdown",
   "metadata": {},
   "source": [
    "# ENGR 418 Project - Stage 2\n",
    "## Sorting lego blocks using image data"
   ]
  },
  {
   "cell_type": "markdown",
   "metadata": {},
   "source": [
    "- Group #20\n",
    "- Jesse Alele 82807728\n",
    "- Zach Kelly 41637836"
   ]
  },
  {
   "cell_type": "markdown",
   "metadata": {},
   "source": [
    "Import python modules"
   ]
  },
  {
   "cell_type": "code",
   "execution_count": 11,
   "metadata": {},
   "outputs": [],
   "source": [
    "import numpy as np \n",
    "import matplotlib.pyplot as plt\n",
    "import os\n",
    "from numpy import asarray\n",
    "from sklearn.linear_model import LogisticRegression\n",
    "from sklearn.metrics import confusion_matrix, accuracy_score\n",
    "from PIL import Image"
   ]
  },
  {
   "cell_type": "markdown",
   "metadata": {},
   "source": [
    "Define function to get training and testing data from raw image files"
   ]
  },
  {
   "cell_type": "code",
   "execution_count": 23,
   "metadata": {},
   "outputs": [],
   "source": [
    "im_width = int(np.sqrt(4067)) \n",
    "im_length = int(np.sqrt(4067))\n",
    "\n",
    "def get_data(folder, im_width, im_length):\n",
    "\n",
    "    # create list of file names inside folder\n",
    "    file_names = os.listdir(folder)\n",
    "    # intialize np array to store feature data\n",
    "    x = np.empty((len(file_names),im_width*im_length))\n",
    "    # initialize np array to store class labels\n",
    "    y = np.empty((len(file_names),1))\n",
    "    \n",
    "    num_cir = 0 # number of images that are labelled as class circle\n",
    "    num_rec = 0 # number of images that are labelled as class rectangle\n",
    "    num_squ = 0 # number of images that are labelled as class square\n",
    "    \n",
    "    for i in range(len(file_names)):\n",
    "       \n",
    "        # fill class labels array\n",
    "        if 'cir' in file_names[i]:\n",
    "            y[i] = 0 # class circle\n",
    "            num_cir = num_cir + 1 # keep running count of circle labels\n",
    "        elif 'rec' in file_names[i]:\n",
    "            y[i] = 1 # class rectangle\n",
    "            num_rec = num_rec + 1 # keep running count of rectangle labels\n",
    "        elif 'squ' in file_names[i]:\n",
    "            y[i] = 2 # class square\n",
    "            num_squ = num_squ + 1 # keep running count of square labels\n",
    "            \n",
    "        # fill feature array\n",
    "        path = folder + '/' + file_names[i] # update path as we iterate through file_names array\n",
    "        im = Image.open(path).convert('L') # open ith image and convert to grayscale\n",
    "        im = im.resize((im_length,im_width)) # resize to specified pixel length and width\n",
    "        im_array = asarray(im) # convert to numpy array\n",
    "        x[i,:] = im_array.reshape(1,-1) # reshape to im_length*im_width columns by one row then insert as ith row in x\n",
    "    \n",
    "    y = np.ravel(y)\n",
    "\n",
    "    # assure the folder contains an equal count of each different shape, so only one variable (num_shape) is needed to seperate the shapes in class labels array\n",
    "    if num_cir == num_rec == num_squ:\n",
    "        num_shape = num_cir\n",
    "    else:\n",
    "        print('The number of circles, rectangles and squares in the specified folder are not equal')\n",
    "\n",
    "    return x, y, num_shape"
   ]
  },
  {
   "cell_type": "markdown",
   "metadata": {},
   "source": [
    "## Raw features\n",
    "Training analysis"
   ]
  },
  {
   "cell_type": "code",
   "execution_count": 28,
   "metadata": {},
   "outputs": [
    {
     "name": "stdout",
     "output_type": "stream",
     "text": [
      "The confusion matrix is:\n",
      " [[27  0  0]\n",
      " [ 0 27  0]\n",
      " [ 0  0 27]]\n",
      "The accuracy score on the circles is: 100.00%\n",
      "The accuracy score on the rectangles is: 100.00%\n",
      "The accuracy score on the squares is: 100.00%\n",
      "The accuracy score on the training data set is: 100.00%\n"
     ]
    }
   ],
   "source": [
    "# Define training folder path\n",
    "training_folder = r\"C:\\Users\\zachk\\Documents\\ubco\\year5\\ubc_term1\\engr418\\project\\stage2\\lego_dataset_2\\training\"\n",
    "# store the returned data from get_data as x_train, y_train, num_shape\n",
    "x_train, y_train, num_shape = get_data(training_folder,im_width,im_length) \n",
    "\n",
    "model = LogisticRegression(max_iter=1000) \n",
    "model.fit(x_train, y_train)\n",
    "\n",
    "y_train_pred = model.predict(x_train)\n",
    "\n",
    "print(f'The confusion matrix is:\\n {confusion_matrix(y_train,y_train_pred)}')\n",
    "print(f'The accuracy score on the circles is: {accuracy_score(y_train[0:num_shape],y_train_pred[0:num_shape])*100:.2f}%')\n",
    "print(f'The accuracy score on the rectangles is: {accuracy_score(y_train[num_shape:2*num_shape],y_train_pred[num_shape:2*num_shape])*100:.2f}%')\n",
    "print(f'The accuracy score on the squares is: {accuracy_score(y_train[2*num_shape:3*num_shape],y_train_pred[2*num_shape:3*num_shape])*100:.2f}%')\n",
    "print(f'The accuracy score on the training data set is: {accuracy_score(y_train,y_train_pred)*100:.2f}%')"
   ]
  },
  {
   "cell_type": "markdown",
   "metadata": {},
   "source": [
    "Testing analysis"
   ]
  },
  {
   "cell_type": "code",
   "execution_count": 29,
   "metadata": {},
   "outputs": [
    {
     "name": "stdout",
     "output_type": "stream",
     "text": [
      "The confusion matrix is:\n",
      " [[16  7  4]\n",
      " [ 2 23  2]\n",
      " [10  6 11]]\n",
      "The accuracy score on the circles is: 59.26%\n",
      "The accuracy score on the rectangles is: 85.19%\n",
      "The accuracy score on the squares is: 40.74%\n",
      "The accuracy score on the entire training dataset is: 61.73%\n"
     ]
    }
   ],
   "source": [
    "# define testing folder path\n",
    "testing_folder = r\"C:\\Users\\zachk\\Documents\\ubco\\year5\\ubc_term1\\engr418\\project\\stage2\\lego_dataset_2\\testing\"\n",
    "# store the returned data from get_data as x_test, y_test, num_shape\n",
    "x_test, y_test, num_shape = get_data(testing_folder,im_width,im_length) \n",
    "\n",
    "def test_function(folder, im_width, im_length):\n",
    "\n",
    "    # create list of file names inside folder\n",
    "    file_names = os.listdir(folder)\n",
    "    # intialize np array to store feature data\n",
    "    x = np.empty((len(file_names),im_width*im_length))\n",
    "    # initialize np array to store class labels\n",
    "    y = np.empty((len(file_names),1))\n",
    "    \n",
    "    num_cir = 0 # number of images that are labelled as class circle\n",
    "    num_rec = 0 # number of images that are labelled as class rectangle\n",
    "    num_squ = 0 # number of images that are labelled as class square\n",
    "    \n",
    "    for i in range(len(file_names)):\n",
    "       \n",
    "        # fill class labels array\n",
    "        if 'cir' in file_names[i]:\n",
    "            y[i] = 0 # class circle\n",
    "            num_cir = num_cir + 1 # keep running count of cirlce labels\n",
    "        elif 'rec' in file_names[i]: \n",
    "            y[i] = 1 # class rectangle\n",
    "            num_rec = num_rec + 1 # keep running count of rectangle labels\n",
    "        elif 'squ' in file_names[i]: \n",
    "            y[i] = 2 # class square\n",
    "            num_squ = num_squ + 1 # keep running count of square labels\n",
    "            \n",
    "        # fill feature array\n",
    "        path = folder + '/' + file_names[i] # update path as we iterate through file_names array\n",
    "        im = Image.open(path).convert('L') # open ith image and convert to grayscale\n",
    "        im = im.resize((im_length,im_width)) # resize to specified pixel length and width\n",
    "        im_array = asarray(im) # convert to numpy array\n",
    "        x[i,:] = im_array.reshape(1,-1) # reshape to im_length*im_width columns by one row then insert as ith row in x\n",
    "\n",
    "    y = np.ravel(y)\n",
    "    \n",
    "    # assure the folder contains an equal number of the different shapes, so only one variable (num_shape) is needed to seperate the shapes in class labels array\n",
    "    if num_cir == num_rec == num_squ:\n",
    "        num_shape = num_cir\n",
    "    else: \n",
    "        print('The number of circles, rectangles and squares in the specified folder are not equal')\n",
    "\n",
    "    y_test_pred = model.predict(x)\n",
    "    test_accuracy = accuracy_score(y,y_test_pred)\n",
    "    cir_accuracy = accuracy_score(y_test[0:num_shape],y_test_pred[0:num_shape])\n",
    "    rec_accuracy = accuracy_score(y_test[num_shape:2*num_shape],y_test_pred[num_shape:2*num_shape])\n",
    "    squ_accuracy = accuracy_score(y_test[2*num_shape:3*num_shape],y_test_pred[2*num_shape:3*num_shape])\n",
    "    test_confusion = confusion_matrix(y,y_test_pred)\n",
    "    \n",
    "    return test_confusion, test_accuracy, cir_accuracy, rec_accuracy, squ_accuracy\n",
    "\n",
    "test_confusion, test_accuracy, cir_accuracy, rec_accuracy, squ_accuracy = test_function(testing_folder,im_width,im_length)\n",
    "\n",
    "\n",
    "print(f'The confusion matrix is:\\n {test_confusion}')\n",
    "print(f'The accuracy score on the circles is: {cir_accuracy*100:.2f}%')\n",
    "print(f'The accuracy score on the rectangles is: {rec_accuracy*100:.2f}%')\n",
    "print(f'The accuracy score on the squares is: {squ_accuracy*100:.2f}%')\n",
    "print(f'The accuracy score on the entire training dataset is: {test_accuracy*100:.2f}%')\n"
   ]
  },
  {
   "cell_type": "markdown",
   "metadata": {},
   "source": [
    "im_width_test = [20, 25, 50, 63]\n",
    "im_length_test = [20, 25, 50, 63]\n",
    "test_confusions = []\n",
    "test_accuracies = []\n",
    "\n",
    "for i in range(4):\n",
    "\n",
    "    im_width = im_width_test[i]\n",
    "    im_length = im_length_test[i]\n",
    "\n",
    "    test_confusion, test_accuracy, cir_accuracy, rec_accuracy, squ_accuracy = test_function(testing_folder, im_width, im_length)\n",
    "\n",
    "    test_confusions[i] = test_confusion\n",
    "    test_accuracies[i] = test_accuracy"
   ]
  },
  {
   "cell_type": "markdown",
   "metadata": {},
   "source": [
    "### Feature Engineering"
   ]
  },
  {
   "cell_type": "code",
   "execution_count": 15,
   "metadata": {},
   "outputs": [],
   "source": [
    "# "
   ]
  }
 ],
 "metadata": {
  "kernelspec": {
   "display_name": "Python 3.10.5 64-bit",
   "language": "python",
   "name": "python3"
  },
  "language_info": {
   "codemirror_mode": {
    "name": "ipython",
    "version": 3
   },
   "file_extension": ".py",
   "mimetype": "text/x-python",
   "name": "python",
   "nbconvert_exporter": "python",
   "pygments_lexer": "ipython3",
   "version": "3.10.5"
  },
  "orig_nbformat": 4,
  "vscode": {
   "interpreter": {
    "hash": "42165681ab10b1bf977adfd89e4bba52bb1422075634ab4a5613df7b4316a888"
   }
  }
 },
 "nbformat": 4,
 "nbformat_minor": 2
}
