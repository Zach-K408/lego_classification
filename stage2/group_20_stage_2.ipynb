{
 "cells": [
  {
   "cell_type": "markdown",
   "metadata": {},
   "source": [
    "# ENGR 418 Project - Stage 2\n",
    "## Sorting lego blocks using image data"
   ]
  },
  {
   "attachments": {},
   "cell_type": "markdown",
   "metadata": {},
   "source": [
    "- Group #20\n",
    "- Jesse Alele 82807728\n",
    "- Zach Kelly 41637836\n",
    "\n",
    "-------------------"
   ]
  },
  {
   "attachments": {},
   "cell_type": "markdown",
   "metadata": {},
   "source": [
    "### Import Statements"
   ]
  },
  {
   "cell_type": "code",
   "execution_count": 9,
   "metadata": {},
   "outputs": [],
   "source": [
    "import numpy as np \n",
    "import matplotlib.pyplot as plt\n",
    "import os\n",
    "from sklearn.linear_model import LogisticRegression\n",
    "from sklearn.metrics import confusion_matrix, accuracy_score\n",
    "from skimage import feature\n",
    "from skimage.io import imread, imshow\n",
    "from skimage.transform import resize"
   ]
  },
  {
   "attachments": {},
   "cell_type": "markdown",
   "metadata": {},
   "source": [
    "### Feature Extraction"
   ]
  },
  {
   "cell_type": "code",
   "execution_count": 10,
   "metadata": {},
   "outputs": [],
   "source": [
    "def feature_extractor(folder):\n",
    "\n",
    "    # get remaining parameters for directory\n",
    "    file_names = os.listdir(folder)\n",
    "    # define square image size\n",
    "    im_size = 100\n",
    "\n",
    "    # initialize feature array\n",
    "    x = []\n",
    "\n",
    "    # iterate through all images in the specified folder \n",
    "    for i in range(len(file_names)):             \n",
    "        dir = os.path.join(folder,file_names[i])\n",
    "        im = imread(dir,as_gray=True) # collects RGB data from an image in a form of 3D array. Since it's grayscaled, its truncated into a 2D array.\n",
    "        im = resize(im, (100, 100)) # resize the image to 100x100 pixels\n",
    "        im = feature.canny(image=im, sigma=5, low_threshold=0.001, high_threshold=0.07) # find edges in image using canny algorithm. Outputs true or false 2D array of (100x100)\n",
    "\n",
    "        # get dimensions of image\n",
    "        im_height = im.shape[0]\n",
    "        im_width = im.shape[1]\n",
    "        \n",
    "        # re-initailize variables \n",
    "        width = 0\n",
    "        diff_width = 0\n",
    "        prev_width = 0\n",
    "        min_width = 0\n",
    "        max_diff_width = 0\n",
    "        area = 0\n",
    "\n",
    "        #print(f'------ Image {i} -------')\n",
    "\n",
    "        # iterate row by row through the 2D image array\n",
    "        for row in range(im_height): \n",
    "            left_edge = 0\n",
    "            right_edge = 0\n",
    "\n",
    "            # update previous row width\n",
    "            prev_width = width\n",
    "\n",
    "            # iterate through the pixels in the current row \n",
    "            for col in range(im_width): \n",
    "                # if the pixel is an edge store as first edge and break loop\n",
    "                if(im[row][col] == True): \n",
    "                    left_edge = col\n",
    "                    break\n",
    "\n",
    "            # iterate through the pixels in the current row\n",
    "            for col in range(im_width): \n",
    "                # if the pixel is an edge store as last_edge, iterate until out of range so the last instance of an edge pixel will replace the value in last_edge \n",
    "                if(im[row][col] == True):\n",
    "                    right_edge = col\n",
    "\n",
    "            # get the area of the shape (feature 1)\n",
    "            width = right_edge - left_edge\n",
    "            area += width # add up all the slices of area (rows with dimensions width x pixel) \n",
    "            \n",
    "            # get the smallest width (feature 2)\n",
    "            # (stores the width corresponding to the last row containing True values\n",
    "            # that don't results in a width = 100 or 0)\n",
    "            if(width < im_width and width != 0):\n",
    "                min_width = width\n",
    "\n",
    "            # get the largest change in width between successive rows (feature 3)\n",
    "            diff_width = abs(width-prev_width) # for rectangles the first and last rows will result in large change in width\n",
    "            if(diff_width > max_diff_width):\n",
    "                max_diff_width = diff_width\n",
    "                #print(f'max difference at row {row} is {max_diff_width}')\n",
    "            \n",
    "        x.append([area,min_width,max_diff_width])\n",
    "    \n",
    "    x = np.array(x)\n",
    "\n",
    "    return x"
   ]
  },
  {
   "attachments": {},
   "cell_type": "markdown",
   "metadata": {},
   "source": [
    "### Notes:\n",
    "\n",
    "- features 2 and 3 will be most helpful in classifying circles\n",
    "- feature 1 will be most helpful in distinguishing between squares and rectangles \n",
    "- possibly extract another feature to help classify amoung squares and rectangles"
   ]
  },
  {
   "attachments": {},
   "cell_type": "markdown",
   "metadata": {},
   "source": [
    "### Label Extraction"
   ]
  },
  {
   "cell_type": "code",
   "execution_count": 14,
   "metadata": {},
   "outputs": [],
   "source": [
    "folder = r\"C:\\Users\\zachk\\Documents\\ubco\\year5\\ubc_term1\\engr418\\project\\stage2\\lego_dataset_2\\training\"\n",
    "\n",
    "def label_extractor(folder):\n",
    "\n",
    "    # get array containing all the file names in folder directory\n",
    "    file_names = os.listdir(folder)\n",
    "\n",
    "    # intialize label array\n",
    "    y = []\n",
    "\n",
    "    # iterate through the images in the specified folder\n",
    "    for i in range(len(file_names)):\n",
    "        \n",
    "        # fill class labels array\n",
    "        if 'cir' in file_names[i]:\n",
    "            y.append(0) # class circle\n",
    "\n",
    "        elif 'rec' in file_names[i]:\n",
    "            y.append(1) # class rectangle\n",
    "            \n",
    "        elif 'squ' in file_names[i]:\n",
    "            y.append(2) # class square\n",
    "\n",
    "    y = np.array(y)\n",
    "\n",
    "    return y"
   ]
  },
  {
   "attachments": {},
   "cell_type": "markdown",
   "metadata": {},
   "source": [
    "### Classifier"
   ]
  },
  {
   "cell_type": "code",
   "execution_count": null,
   "metadata": {},
   "outputs": [],
   "source": []
  },
  {
   "attachments": {},
   "cell_type": "markdown",
   "metadata": {},
   "source": [
    "### Model Training"
   ]
  },
  {
   "cell_type": "code",
   "execution_count": 12,
   "metadata": {},
   "outputs": [
    {
     "data": {
      "text/plain": [
       "array([[ 428,    4,    7],\n",
       "       [ 414,    5,    6],\n",
       "       [ 372,    3,    6],\n",
       "       [ 427,    4,    5],\n",
       "       [ 488,    2,    7],\n",
       "       [ 360,    5,    6],\n",
       "       [ 490,    4,   28],\n",
       "       [ 475,    2,    7],\n",
       "       [ 436,    5,    7],\n",
       "       [ 426,    6,    7],\n",
       "       [ 371,    6,    7],\n",
       "       [ 342,    5,    6],\n",
       "       [ 331,    7,    7],\n",
       "       [ 331,    4,    6],\n",
       "       [ 287,    3,    7],\n",
       "       [ 352,    4,    6],\n",
       "       [ 408,    8,    8],\n",
       "       [ 377,    8,    8],\n",
       "       [ 362,    3,    6],\n",
       "       [ 295,    4,   16],\n",
       "       [ 432,    8,    8],\n",
       "       [ 502,    3,    7],\n",
       "       [ 364,    7,    7],\n",
       "       [ 505,    6,   28],\n",
       "       [ 480,    7,    8],\n",
       "       [ 452,    6,    6],\n",
       "       [ 443,    3,    8],\n",
       "       [ 993,    2,   11],\n",
       "       [ 999,    9,   11],\n",
       "       [ 902,    4,    9],\n",
       "       [1028,   10,   10],\n",
       "       [ 964,   13,   13],\n",
       "       [ 907,    4,   11],\n",
       "       [ 950,    3,   11],\n",
       "       [1025,   10,   10],\n",
       "       [ 892,    9,    9],\n",
       "       [1021,    6,    7],\n",
       "       [ 911,    7,   11],\n",
       "       [1467,    1,    6],\n",
       "       [1099,    7,    7],\n",
       "       [1340,    9,    9],\n",
       "       [1156,    2,    7],\n",
       "       [1158,    7,    8],\n",
       "       [1296,    7,    7],\n",
       "       [1331,    4,   10],\n",
       "       [1318,    7,    7],\n",
       "       [1407,    5,    7],\n",
       "       [1039,    7,    9],\n",
       "       [ 986,   12,   12],\n",
       "       [ 921,    7,    7],\n",
       "       [ 968,    5,    8],\n",
       "       [1036,    9,    9],\n",
       "       [ 892,    8,    9],\n",
       "       [ 995,    6,    8],\n",
       "       [ 605,    6,    9],\n",
       "       [ 597,    7,    9],\n",
       "       [ 911,    1,   12],\n",
       "       [ 577,    6,   10],\n",
       "       [ 661,    9,    9],\n",
       "       [ 539,   11,   11],\n",
       "       [ 683,   19,   19],\n",
       "       [ 735,   13,   13],\n",
       "       [ 514,    9,   26],\n",
       "       [ 601,   10,   10],\n",
       "       [ 935,    5,   11],\n",
       "       [ 456,    6,    6],\n",
       "       [ 549,   12,   12],\n",
       "       [ 480,    6,    7],\n",
       "       [ 419,   11,   11],\n",
       "       [ 509,    7,    7],\n",
       "       [ 489,    4,   27],\n",
       "       [ 497,    7,   22],\n",
       "       [ 199,    4,    5],\n",
       "       [ 513,    6,   25],\n",
       "       [ 590,    9,   11],\n",
       "       [ 667,    8,    9],\n",
       "       [ 532,   13,   13],\n",
       "       [ 679,   16,   29],\n",
       "       [ 731,    5,    9],\n",
       "       [ 542,   12,   24],\n",
       "       [1177,   11,   43]])"
      ]
     },
     "execution_count": 12,
     "metadata": {},
     "output_type": "execute_result"
    }
   ],
   "source": [
    "folder = r\"C:\\Users\\zachk\\Documents\\ubco\\year5\\ubc_term1\\engr418\\project\\stage2\\lego_dataset_2\\training\"\n",
    "\n",
    "feature_extractor(folder)"
   ]
  },
  {
   "attachments": {},
   "cell_type": "markdown",
   "metadata": {},
   "source": [
    "### Accuracy on Training Set"
   ]
  },
  {
   "cell_type": "code",
   "execution_count": null,
   "metadata": {},
   "outputs": [],
   "source": []
  },
  {
   "attachments": {},
   "cell_type": "markdown",
   "metadata": {},
   "source": [
    "### Accuracy on Test Set"
   ]
  },
  {
   "cell_type": "code",
   "execution_count": null,
   "metadata": {},
   "outputs": [],
   "source": []
  }
 ],
 "metadata": {
  "kernelspec": {
   "display_name": "Python 3.10.5 64-bit",
   "language": "python",
   "name": "python3"
  },
  "language_info": {
   "codemirror_mode": {
    "name": "ipython",
    "version": 3
   },
   "file_extension": ".py",
   "mimetype": "text/x-python",
   "name": "python",
   "nbconvert_exporter": "python",
   "pygments_lexer": "ipython3",
   "version": "3.10.5"
  },
  "orig_nbformat": 4,
  "vscode": {
   "interpreter": {
    "hash": "42165681ab10b1bf977adfd89e4bba52bb1422075634ab4a5613df7b4316a888"
   }
  }
 },
 "nbformat": 4,
 "nbformat_minor": 2
}
