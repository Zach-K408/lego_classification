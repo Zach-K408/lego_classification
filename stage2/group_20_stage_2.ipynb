{
 "cells": [
  {
   "cell_type": "markdown",
   "metadata": {},
   "source": [
    "# ENGR 418 Project - Stage 2\n",
    "## Sorting lego blocks using image data"
   ]
  },
  {
   "attachments": {},
   "cell_type": "markdown",
   "metadata": {},
   "source": [
    "- Group #20\n",
    "- Jesse Alele 82807728\n",
    "- Zach Kelly 41637836\n",
    "\n",
    "-------------------"
   ]
  },
  {
   "attachments": {},
   "cell_type": "markdown",
   "metadata": {},
   "source": [
    "### Import Statements"
   ]
  },
  {
   "cell_type": "code",
   "execution_count": 23,
   "metadata": {},
   "outputs": [],
   "source": [
    "import numpy as np \n",
    "import pandas as pd\n",
    "import matplotlib.pyplot as plt\n",
    "import os\n",
    "from sklearn.neighbors import KNeighborsClassifier\n",
    "from sklearn.metrics import confusion_matrix, accuracy_score\n",
    "from skimage import feature\n",
    "from skimage.io import imread, imshow\n",
    "from skimage.transform import resize"
   ]
  },
  {
   "attachments": {},
   "cell_type": "markdown",
   "metadata": {},
   "source": [
    "### Feature Extraction"
   ]
  },
  {
   "cell_type": "code",
   "execution_count": 16,
   "metadata": {},
   "outputs": [],
   "source": [
    "def feature_extractor(folder):\n",
    "\n",
    "    # get remaining parameters for directory\n",
    "    file_names = os.listdir(folder)\n",
    "    # define square image size\n",
    "    im_size = 100\n",
    "\n",
    "    # initialize feature array\n",
    "    x = []\n",
    "\n",
    "    # iterate through all images in the specified folder \n",
    "    for i in range(len(file_names)):             \n",
    "        dir = os.path.join(folder,file_names[i])\n",
    "        im = imread(dir,as_gray=True) # collects RGB data from an image in a form of 3D array. Since it's grayscaled, its truncated into a 2D array.\n",
    "        im = resize(im, (100, 100)) # resize the image to 100x100 pixels\n",
    "        im = feature.canny(image=im, sigma=5, low_threshold=0.001, high_threshold=0.07) # find edges in image using canny algorithm. Outputs true or false 2D array of (100x100)\n",
    "\n",
    "        # get dimensions of image\n",
    "        im_height = im.shape[0]\n",
    "        im_width = im.shape[1]\n",
    "        \n",
    "        # re-initailize variables \n",
    "        width = 0\n",
    "        diff_width = 0\n",
    "        prev_width = 0\n",
    "        min_width = 0\n",
    "        max_diff_width = 0\n",
    "        area = 0\n",
    "\n",
    "        #print(f'------ Image {i} -------')\n",
    "\n",
    "        # iterate row by row through the 2D image array\n",
    "        for row in range(im_height): \n",
    "            left_edge = 0\n",
    "            right_edge = 0\n",
    "\n",
    "            # update previous row width\n",
    "            prev_width = width\n",
    "\n",
    "            # iterate through the pixels in the current row \n",
    "            for col in range(im_width): \n",
    "                # if the pixel is an edge store as first edge and break loop\n",
    "                if(im[row][col] == True): \n",
    "                    left_edge = col\n",
    "                    break\n",
    "\n",
    "            # iterate through the pixels in the current row\n",
    "            for col in range(im_width): \n",
    "                # if the pixel is an edge store as last_edge, iterate until out of range so the last instance of an edge pixel will replace the value in last_edge \n",
    "                if(im[row][col] == True):\n",
    "                    right_edge = col\n",
    "\n",
    "            # get the area of the shape (feature 1)\n",
    "            width = right_edge - left_edge\n",
    "            area += width # add up all the slices of area (rows with dimensions width x pixel) \n",
    "            \n",
    "            # get the smallest width (feature 2)\n",
    "            # (stores the width corresponding to the last row containing True values\n",
    "            # that don't results in a width = 100 or 0)\n",
    "            if(width < im_width and width != 0):\n",
    "                min_width = width\n",
    "\n",
    "            # get the largest change in width between successive rows (feature 3)\n",
    "            diff_width = abs(width-prev_width) # for rectangles the first and last rows will result in large change in width\n",
    "            if(diff_width > max_diff_width):\n",
    "                max_diff_width = diff_width\n",
    "                #print(f'max difference at row {row} is {max_diff_width}')\n",
    "            \n",
    "        x.append([area,min_width,max_diff_width])\n",
    "    \n",
    "    x = np.array(x)\n",
    "\n",
    "    return x"
   ]
  },
  {
   "attachments": {},
   "cell_type": "markdown",
   "metadata": {},
   "source": [
    "### Notes:\n",
    "\n",
    "- features 2 and 3 will be most helpful in classifying circles\n",
    "- feature 1 will be most helpful in distinguishing between squares and rectangles \n",
    "- possibly extract another feature to help classify amoung squares and rectangles"
   ]
  },
  {
   "attachments": {},
   "cell_type": "markdown",
   "metadata": {},
   "source": [
    "### Label Extraction"
   ]
  },
  {
   "cell_type": "code",
   "execution_count": 20,
   "metadata": {},
   "outputs": [
    {
     "data": {
      "text/plain": [
       "(array([0, 0, 0, 0, 0, 0, 0, 0, 0, 0, 0, 0, 0, 0, 0, 0, 0, 0, 0, 0, 0, 0,\n",
       "        0, 0, 0, 0, 0, 1, 1, 1, 1, 1, 1, 1, 1, 1, 1, 1, 1, 1, 1, 1, 1, 1,\n",
       "        1, 1, 1, 1, 1, 1, 1, 1, 1, 1, 2, 2, 2, 2, 2, 2, 2, 2, 2, 2, 2, 2,\n",
       "        2, 2, 2, 2, 2, 2, 2, 2, 2, 2, 2, 2, 2, 2, 2]),\n",
       " 27,\n",
       " 27,\n",
       " 27)"
      ]
     },
     "execution_count": 20,
     "metadata": {},
     "output_type": "execute_result"
    }
   ],
   "source": [
    "folder = r\"C:\\Users\\zachk\\Documents\\ubco\\year5\\ubc_term1\\engr418\\project\\stage2\\lego_dataset_2\\training\"\n",
    "\n",
    "def label_extractor(folder):\n",
    "\n",
    "    # get array containing all the file names in folder directory\n",
    "    file_names = os.listdir(folder)\n",
    "    # intialize label array\n",
    "    y = []\n",
    "    # initalize variables to store count of shapes\n",
    "    cir = 0\n",
    "    rec = 0\n",
    "    squ = 0\n",
    "\n",
    "    # iterate through the images in the specified folder\n",
    "    for i in range(len(file_names)):        \n",
    "        # fill class labels array\n",
    "        if 'cir' in file_names[i]:\n",
    "            y.append(0) # class circle\n",
    "            cir += 1\n",
    "        elif 'rec' in file_names[i]:\n",
    "            y.append(1) # class rectangle\n",
    "            rec += 1\n",
    "        elif 'squ' in file_names[i]:\n",
    "            y.append(2) # class square\n",
    "            squ += 1\n",
    "\n",
    "    # convert list to numpy array\n",
    "    y = np.array(y)\n",
    "\n",
    "    return y, cir, rec, squ\n",
    "\n",
    "label_extractor(folder)"
   ]
  },
  {
   "attachments": {},
   "cell_type": "markdown",
   "metadata": {},
   "source": [
    "### Model Training"
   ]
  },
  {
   "cell_type": "code",
   "execution_count": 22,
   "metadata": {},
   "outputs": [
    {
     "data": {
      "text/html": [
       "<style>#sk-container-id-1 {color: black;background-color: white;}#sk-container-id-1 pre{padding: 0;}#sk-container-id-1 div.sk-toggleable {background-color: white;}#sk-container-id-1 label.sk-toggleable__label {cursor: pointer;display: block;width: 100%;margin-bottom: 0;padding: 0.3em;box-sizing: border-box;text-align: center;}#sk-container-id-1 label.sk-toggleable__label-arrow:before {content: \"▸\";float: left;margin-right: 0.25em;color: #696969;}#sk-container-id-1 label.sk-toggleable__label-arrow:hover:before {color: black;}#sk-container-id-1 div.sk-estimator:hover label.sk-toggleable__label-arrow:before {color: black;}#sk-container-id-1 div.sk-toggleable__content {max-height: 0;max-width: 0;overflow: hidden;text-align: left;background-color: #f0f8ff;}#sk-container-id-1 div.sk-toggleable__content pre {margin: 0.2em;color: black;border-radius: 0.25em;background-color: #f0f8ff;}#sk-container-id-1 input.sk-toggleable__control:checked~div.sk-toggleable__content {max-height: 200px;max-width: 100%;overflow: auto;}#sk-container-id-1 input.sk-toggleable__control:checked~label.sk-toggleable__label-arrow:before {content: \"▾\";}#sk-container-id-1 div.sk-estimator input.sk-toggleable__control:checked~label.sk-toggleable__label {background-color: #d4ebff;}#sk-container-id-1 div.sk-label input.sk-toggleable__control:checked~label.sk-toggleable__label {background-color: #d4ebff;}#sk-container-id-1 input.sk-hidden--visually {border: 0;clip: rect(1px 1px 1px 1px);clip: rect(1px, 1px, 1px, 1px);height: 1px;margin: -1px;overflow: hidden;padding: 0;position: absolute;width: 1px;}#sk-container-id-1 div.sk-estimator {font-family: monospace;background-color: #f0f8ff;border: 1px dotted black;border-radius: 0.25em;box-sizing: border-box;margin-bottom: 0.5em;}#sk-container-id-1 div.sk-estimator:hover {background-color: #d4ebff;}#sk-container-id-1 div.sk-parallel-item::after {content: \"\";width: 100%;border-bottom: 1px solid gray;flex-grow: 1;}#sk-container-id-1 div.sk-label:hover label.sk-toggleable__label {background-color: #d4ebff;}#sk-container-id-1 div.sk-serial::before {content: \"\";position: absolute;border-left: 1px solid gray;box-sizing: border-box;top: 0;bottom: 0;left: 50%;z-index: 0;}#sk-container-id-1 div.sk-serial {display: flex;flex-direction: column;align-items: center;background-color: white;padding-right: 0.2em;padding-left: 0.2em;position: relative;}#sk-container-id-1 div.sk-item {position: relative;z-index: 1;}#sk-container-id-1 div.sk-parallel {display: flex;align-items: stretch;justify-content: center;background-color: white;position: relative;}#sk-container-id-1 div.sk-item::before, #sk-container-id-1 div.sk-parallel-item::before {content: \"\";position: absolute;border-left: 1px solid gray;box-sizing: border-box;top: 0;bottom: 0;left: 50%;z-index: -1;}#sk-container-id-1 div.sk-parallel-item {display: flex;flex-direction: column;z-index: 1;position: relative;background-color: white;}#sk-container-id-1 div.sk-parallel-item:first-child::after {align-self: flex-end;width: 50%;}#sk-container-id-1 div.sk-parallel-item:last-child::after {align-self: flex-start;width: 50%;}#sk-container-id-1 div.sk-parallel-item:only-child::after {width: 0;}#sk-container-id-1 div.sk-dashed-wrapped {border: 1px dashed gray;margin: 0 0.4em 0.5em 0.4em;box-sizing: border-box;padding-bottom: 0.4em;background-color: white;}#sk-container-id-1 div.sk-label label {font-family: monospace;font-weight: bold;display: inline-block;line-height: 1.2em;}#sk-container-id-1 div.sk-label-container {text-align: center;}#sk-container-id-1 div.sk-container {/* jupyter's `normalize.less` sets `[hidden] { display: none; }` but bootstrap.min.css set `[hidden] { display: none !important; }` so we also need the `!important` here to be able to override the default hidden behavior on the sphinx rendered scikit-learn.org. See: https://github.com/scikit-learn/scikit-learn/issues/21755 */display: inline-block !important;position: relative;}#sk-container-id-1 div.sk-text-repr-fallback {display: none;}</style><div id=\"sk-container-id-1\" class=\"sk-top-container\"><div class=\"sk-text-repr-fallback\"><pre>KNeighborsClassifier(n_neighbors=1)</pre><b>In a Jupyter environment, please rerun this cell to show the HTML representation or trust the notebook. <br />On GitHub, the HTML representation is unable to render, please try loading this page with nbviewer.org.</b></div><div class=\"sk-container\" hidden><div class=\"sk-item\"><div class=\"sk-estimator sk-toggleable\"><input class=\"sk-toggleable__control sk-hidden--visually\" id=\"sk-estimator-id-1\" type=\"checkbox\" checked><label for=\"sk-estimator-id-1\" class=\"sk-toggleable__label sk-toggleable__label-arrow\">KNeighborsClassifier</label><div class=\"sk-toggleable__content\"><pre>KNeighborsClassifier(n_neighbors=1)</pre></div></div></div></div></div>"
      ],
      "text/plain": [
       "KNeighborsClassifier(n_neighbors=1)"
      ]
     },
     "execution_count": 22,
     "metadata": {},
     "output_type": "execute_result"
    }
   ],
   "source": [
    "train_folder = r\"C:\\Users\\zachk\\Documents\\ubco\\year5\\ubc_term1\\engr418\\project\\stage2\\lego_dataset_2\\training\"\n",
    "\n",
    "x_train = feature_extractor(train_folder)\n",
    "y_train, cir, rec, squ = label_extractor(train_folder)\n",
    "\n",
    "# intitialize and fit K Nearest Neighbours model\n",
    "knn = KNeighborsClassifier(n_neighbors=1)\n",
    "knn.fit(x_train,y_train)\n"
   ]
  },
  {
   "attachments": {},
   "cell_type": "markdown",
   "metadata": {},
   "source": [
    "### Testing Function"
   ]
  },
  {
   "cell_type": "code",
   "execution_count": 47,
   "metadata": {},
   "outputs": [
    {
     "name": "stdout",
     "output_type": "stream",
     "text": [
      "The accuracy score on the circles is: 92.59%\n",
      "None\n",
      "The accuracy score on the rectangles is: 88.89%\n",
      "None\n",
      "The accuracy score on the squares is: 96.30%\n",
      "None\n",
      "The overall accuracy score is: 92.59%\n",
      "The confusion matrix is:\n"
     ]
    },
    {
     "data": {
      "text/html": [
       "<div>\n",
       "<style scoped>\n",
       "    .dataframe tbody tr th:only-of-type {\n",
       "        vertical-align: middle;\n",
       "    }\n",
       "\n",
       "    .dataframe tbody tr th {\n",
       "        vertical-align: top;\n",
       "    }\n",
       "\n",
       "    .dataframe thead th {\n",
       "        text-align: right;\n",
       "    }\n",
       "</style>\n",
       "<table border=\"1\" class=\"dataframe\">\n",
       "  <thead>\n",
       "    <tr style=\"text-align: right;\">\n",
       "      <th>col_0</th>\n",
       "      <th>0</th>\n",
       "      <th>1</th>\n",
       "      <th>2</th>\n",
       "    </tr>\n",
       "    <tr>\n",
       "      <th>row_0</th>\n",
       "      <th></th>\n",
       "      <th></th>\n",
       "      <th></th>\n",
       "    </tr>\n",
       "  </thead>\n",
       "  <tbody>\n",
       "    <tr>\n",
       "      <th>0</th>\n",
       "      <td>25</td>\n",
       "      <td>0</td>\n",
       "      <td>2</td>\n",
       "    </tr>\n",
       "    <tr>\n",
       "      <th>1</th>\n",
       "      <td>0</td>\n",
       "      <td>24</td>\n",
       "      <td>3</td>\n",
       "    </tr>\n",
       "    <tr>\n",
       "      <th>2</th>\n",
       "      <td>1</td>\n",
       "      <td>0</td>\n",
       "      <td>26</td>\n",
       "    </tr>\n",
       "  </tbody>\n",
       "</table>\n",
       "</div>"
      ],
      "text/plain": [
       "col_0   0   1   2\n",
       "row_0            \n",
       "0      25   0   2\n",
       "1       0  24   3\n",
       "2       1   0  26"
      ]
     },
     "metadata": {},
     "output_type": "display_data"
    }
   ],
   "source": [
    "#def test_function(test_folder, model):\n",
    "test_folder = r\"C:\\Users\\zachk\\Documents\\ubco\\year5\\ubc_term1\\engr418\\project\\stage2\\lego_dataset_2\\testing\"\n",
    "\n",
    "# get data\n",
    "x = feature_extractor(test_folder)\n",
    "[y,cir,rec,squ] = label_extractor(test_folder)\n",
    "\n",
    "# predict using trained model\n",
    "y_pred = knn.predict(x)\n",
    "\n",
    "# assess prediction using pre-defined metrics\n",
    "accuracy = accuracy_score(y,y_pred)\n",
    "confusion = pd.crosstab(y,y_pred)\n",
    "\n",
    "# define list containing the lego shapes\n",
    "shapes = ['circles','rectangles','squares']\n",
    "\n",
    "for i in range(len(shapes)):\n",
    "\n",
    "    total = confusion.loc[i,:].sum()\n",
    "    shape_count = confusion.loc[i,i]\n",
    "    score = shape_count/total\n",
    "\n",
    "    print(print(f'The accuracy score on the {shapes[i]} is: {score*100:.2f}%'))\n",
    "\n",
    "print(f'The overall accuracy score is: {accuracy*100:.2f}%')\n",
    "print('The confusion matrix is:')\n",
    "display(confusion)"
   ]
  },
  {
   "attachments": {},
   "cell_type": "markdown",
   "metadata": {},
   "source": [
    "### Accuracy on Training Set"
   ]
  },
  {
   "cell_type": "code",
   "execution_count": null,
   "metadata": {},
   "outputs": [],
   "source": []
  },
  {
   "attachments": {},
   "cell_type": "markdown",
   "metadata": {},
   "source": [
    "### Accuracy on Test Set"
   ]
  },
  {
   "cell_type": "code",
   "execution_count": null,
   "metadata": {},
   "outputs": [],
   "source": [
    "test_folder = r\"C:\\Users\\zachk\\Documents\\ubco\\year5\\ubc_term1\\engr418\\project\\stage2\\lego_dataset_2\\testing\"\n"
   ]
  }
 ],
 "metadata": {
  "kernelspec": {
   "display_name": "Python 3.10.5 64-bit",
   "language": "python",
   "name": "python3"
  },
  "language_info": {
   "codemirror_mode": {
    "name": "ipython",
    "version": 3
   },
   "file_extension": ".py",
   "mimetype": "text/x-python",
   "name": "python",
   "nbconvert_exporter": "python",
   "pygments_lexer": "ipython3",
   "version": "3.10.5"
  },
  "orig_nbformat": 4,
  "vscode": {
   "interpreter": {
    "hash": "42165681ab10b1bf977adfd89e4bba52bb1422075634ab4a5613df7b4316a888"
   }
  }
 },
 "nbformat": 4,
 "nbformat_minor": 2
}
