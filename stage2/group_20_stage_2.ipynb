{
 "cells": [
  {
   "cell_type": "markdown",
   "metadata": {},
   "source": [
    "# ENGR 418 Project - Stage 2\n",
    "## Sorting lego blocks using image data"
   ]
  },
  {
   "cell_type": "markdown",
   "metadata": {},
   "source": [
    "- Group #20\n",
    "- Jesse Alele 82807728\n",
    "- Zach Kelly 41637836"
   ]
  },
  {
   "attachments": {},
   "cell_type": "markdown",
   "metadata": {},
   "source": [
    "### Import Statements"
   ]
  },
  {
   "cell_type": "code",
   "execution_count": 7,
   "metadata": {},
   "outputs": [],
   "source": [
    "import numpy as np \n",
    "import matplotlib.pyplot as plt\n",
    "import os\n",
    "from numpy import asarray\n",
    "from sklearn.linear_model import LogisticRegression\n",
    "from sklearn.metrics import confusion_matrix, accuracy_score\n",
    "from PIL import Image\n",
    "from skimage import feature"
   ]
  },
  {
   "attachments": {},
   "cell_type": "markdown",
   "metadata": {},
   "source": [
    "### Feature Extraction"
   ]
  },
  {
   "cell_type": "code",
   "execution_count": 17,
   "metadata": {},
   "outputs": [
    {
     "ename": "AttributeError",
     "evalue": "dtype",
     "output_type": "error",
     "traceback": [
      "\u001b[1;31m---------------------------------------------------------------------------\u001b[0m",
      "\u001b[1;31mAttributeError\u001b[0m                            Traceback (most recent call last)",
      "Cell \u001b[1;32mIn [17], line 14\u001b[0m\n\u001b[0;32m     11\u001b[0m \u001b[39m#im_array = asarray(im) # convert to numpy array\u001b[39;00m\n\u001b[0;32m     12\u001b[0m im \u001b[39m=\u001b[39m im\u001b[39m.\u001b[39mresize((im_size,im_size)) \u001b[39m# resize to specified pixel length and width\u001b[39;00m\n\u001b[1;32m---> 14\u001b[0m im \u001b[39m=\u001b[39m feature\u001b[39m.\u001b[39mcanny(image\u001b[39m=\u001b[39mim,sigma\u001b[39m=\u001b[39m\u001b[39m5\u001b[39m,low_threshold\u001b[39m=\u001b[39m\u001b[39m0.001\u001b[39m,high_threshold\u001b[39m=\u001b[39m\u001b[39m0.07\u001b[39m)\n",
      "File \u001b[1;32mc:\\Users\\zachk\\AppData\\Local\\Programs\\Python\\Python310\\lib\\site-packages\\skimage\\feature\\_canny.py:295\u001b[0m, in \u001b[0;36mcanny\u001b[1;34m(image, sigma, low_threshold, high_threshold, mask, use_quantiles, mode, cval)\u001b[0m\n\u001b[0;32m    289\u001b[0m \u001b[39m# Regarding masks, any point touching a masked point will have a gradient\u001b[39;00m\n\u001b[0;32m    290\u001b[0m \u001b[39m# that is \"infected\" by the masked point, so it's enough to erode the\u001b[39;00m\n\u001b[0;32m    291\u001b[0m \u001b[39m# mask by one and then mask the output. We also mask out the border points\u001b[39;00m\n\u001b[0;32m    292\u001b[0m \u001b[39m# because who knows what lies beyond the edge of the image?\u001b[39;00m\n\u001b[0;32m    294\u001b[0m check_nD(image, \u001b[39m2\u001b[39m)\n\u001b[1;32m--> 295\u001b[0m dtype_max \u001b[39m=\u001b[39m dtype_limits(image, clip_negative\u001b[39m=\u001b[39;49m\u001b[39mFalse\u001b[39;49;00m)[\u001b[39m1\u001b[39m]\n\u001b[0;32m    297\u001b[0m \u001b[39mif\u001b[39;00m low_threshold \u001b[39mis\u001b[39;00m \u001b[39mNone\u001b[39;00m:\n\u001b[0;32m    298\u001b[0m     low_threshold \u001b[39m=\u001b[39m \u001b[39m0.1\u001b[39m\n",
      "File \u001b[1;32mc:\\Users\\zachk\\AppData\\Local\\Programs\\Python\\Python310\\lib\\site-packages\\skimage\\util\\dtype.py:54\u001b[0m, in \u001b[0;36mdtype_limits\u001b[1;34m(image, clip_negative)\u001b[0m\n\u001b[0;32m     38\u001b[0m \u001b[39mdef\u001b[39;00m \u001b[39mdtype_limits\u001b[39m(image, clip_negative\u001b[39m=\u001b[39m\u001b[39mFalse\u001b[39;00m):\n\u001b[0;32m     39\u001b[0m     \u001b[39m\"\"\"Return intensity limits, i.e. (min, max) tuple, of the image's dtype.\u001b[39;00m\n\u001b[0;32m     40\u001b[0m \n\u001b[0;32m     41\u001b[0m \u001b[39m    Parameters\u001b[39;00m\n\u001b[1;32m   (...)\u001b[0m\n\u001b[0;32m     52\u001b[0m \u001b[39m        Lower and upper intensity limits.\u001b[39;00m\n\u001b[0;32m     53\u001b[0m \u001b[39m    \"\"\"\u001b[39;00m\n\u001b[1;32m---> 54\u001b[0m     imin, imax \u001b[39m=\u001b[39m dtype_range[image\u001b[39m.\u001b[39;49mdtype\u001b[39m.\u001b[39mtype]\n\u001b[0;32m     55\u001b[0m     \u001b[39mif\u001b[39;00m clip_negative:\n\u001b[0;32m     56\u001b[0m         imin \u001b[39m=\u001b[39m \u001b[39m0\u001b[39m\n",
      "File \u001b[1;32mc:\\Users\\zachk\\AppData\\Local\\Programs\\Python\\Python310\\lib\\site-packages\\PIL\\Image.py:548\u001b[0m, in \u001b[0;36mImage.__getattr__\u001b[1;34m(self, name)\u001b[0m\n\u001b[0;32m    541\u001b[0m     warnings\u001b[39m.\u001b[39mwarn(\n\u001b[0;32m    542\u001b[0m         \u001b[39m\"\u001b[39m\u001b[39mImage categories are deprecated and will be removed in Pillow 10 \u001b[39m\u001b[39m\"\u001b[39m\n\u001b[0;32m    543\u001b[0m         \u001b[39m\"\u001b[39m\u001b[39m(2023-07-01). Use is_animated instead.\u001b[39m\u001b[39m\"\u001b[39m,\n\u001b[0;32m    544\u001b[0m         \u001b[39mDeprecationWarning\u001b[39;00m,\n\u001b[0;32m    545\u001b[0m         stacklevel\u001b[39m=\u001b[39m\u001b[39m2\u001b[39m,\n\u001b[0;32m    546\u001b[0m     )\n\u001b[0;32m    547\u001b[0m     \u001b[39mreturn\u001b[39;00m \u001b[39mself\u001b[39m\u001b[39m.\u001b[39m_category\n\u001b[1;32m--> 548\u001b[0m \u001b[39mraise\u001b[39;00m \u001b[39mAttributeError\u001b[39;00m(name)\n",
      "\u001b[1;31mAttributeError\u001b[0m: dtype"
     ]
    }
   ],
   "source": [
    "# def feature_extractor(path):\n",
    "folder = r\"C:\\Users\\zachk\\Documents\\ubco\\year5\\ubc_term1\\engr418\\project\\stage2\\lego_dataset_2\\training\"\n",
    "\n",
    "im_size = 100\n",
    "file_names = os.listdir(folder)\n",
    "x = []\n",
    "\n",
    "for i in range(len(file_names)):\n",
    "    path = folder + '/' + file_names[i] # update path as we iterate through file_names array\n",
    "    im = Image.open(path).convert('L') # open ith image and convert to grayscale\n",
    "    #im_array = asarray(im) # convert to numpy array\n",
    "    im = im.resize((im_size,im_size)) # resize to specified pixel length and width\n",
    "\n",
    "    im = feature.canny(image=im,sigma=5,low_threshold=0.001,high_threshold=0.07)\n",
    "    #im_height = im.shape[0]\n",
    "    #im_width = im.shape[1]\n",
    "    #display(im_height,im_width)\n"
   ]
  },
  {
   "attachments": {},
   "cell_type": "markdown",
   "metadata": {},
   "source": [
    "### Label Extraction"
   ]
  },
  {
   "cell_type": "code",
   "execution_count": null,
   "metadata": {},
   "outputs": [],
   "source": []
  },
  {
   "attachments": {},
   "cell_type": "markdown",
   "metadata": {},
   "source": [
    "### Classifier"
   ]
  },
  {
   "cell_type": "code",
   "execution_count": null,
   "metadata": {},
   "outputs": [],
   "source": []
  },
  {
   "attachments": {},
   "cell_type": "markdown",
   "metadata": {},
   "source": [
    "### Model Training"
   ]
  },
  {
   "cell_type": "code",
   "execution_count": null,
   "metadata": {},
   "outputs": [],
   "source": []
  },
  {
   "attachments": {},
   "cell_type": "markdown",
   "metadata": {},
   "source": [
    "### Accuracy on Training Set"
   ]
  },
  {
   "cell_type": "code",
   "execution_count": null,
   "metadata": {},
   "outputs": [],
   "source": []
  },
  {
   "attachments": {},
   "cell_type": "markdown",
   "metadata": {},
   "source": [
    "### Accuracy on Test Set"
   ]
  },
  {
   "cell_type": "code",
   "execution_count": null,
   "metadata": {},
   "outputs": [],
   "source": []
  },
  {
   "cell_type": "markdown",
   "metadata": {},
   "source": [
    "Define function to get training and testing data from raw image files"
   ]
  },
  {
   "cell_type": "code",
   "execution_count": 2,
   "metadata": {},
   "outputs": [],
   "source": [
    "im_width = int(np.sqrt(4067)) \n",
    "im_length = int(np.sqrt(4067))\n",
    "\n",
    "def get_data(folder, im_width, im_length):\n",
    "\n",
    "    # create list of file names inside folder\n",
    "    file_names = os.listdir(folder)\n",
    "    # intialize np array to store feature data\n",
    "    x = np.empty((len(file_names),im_width*im_length))\n",
    "    # initialize np array to store class labels\n",
    "    y = np.empty((len(file_names),1))\n",
    "    \n",
    "    num_cir = 0 # number of images that are labelled as class circle\n",
    "    num_rec = 0 # number of images that are labelled as class rectangle\n",
    "    num_squ = 0 # number of images that are labelled as class square\n",
    "    \n",
    "    for i in range(len(file_names)):\n",
    "       \n",
    "        # fill class labels array\n",
    "        if 'cir' in file_names[i]:\n",
    "            y[i] = 0 # class circle\n",
    "            num_cir = num_cir + 1 # keep running count of circle labels\n",
    "        elif 'rec' in file_names[i]:\n",
    "            y[i] = 1 # class rectangle\n",
    "            num_rec = num_rec + 1 # keep running count of rectangle labels\n",
    "        elif 'squ' in file_names[i]:\n",
    "            y[i] = 2 # class square\n",
    "            num_squ = num_squ + 1 # keep running count of square labels\n",
    "            \n",
    "        # fill feature array\n",
    "        path = folder + '/' + file_names[i] # update path as we iterate through file_names array\n",
    "        im = Image.open(path).convert('L') # open ith image and convert to grayscale\n",
    "        im = im.resize((im_length,im_width)) # resize to specified pixel length and width\n",
    "        im_array = asarray(im) # convert to numpy array\n",
    "        x[i,:] = im_array.reshape(1,-1) # reshape to im_length*im_width columns by one row then insert as ith row in x\n",
    "    \n",
    "    y = np.ravel(y)\n",
    "\n",
    "    # assure the folder contains an equal count of each different shape, so only one variable (num_shape) is needed to seperate the shapes in class labels array\n",
    "    if num_cir == num_rec == num_squ:\n",
    "        num_shape = num_cir\n",
    "    else:\n",
    "        print('The number of circles, rectangles and squares in the specified folder are not equal')\n",
    "\n",
    "    return x, y, num_shape"
   ]
  }
 ],
 "metadata": {
  "kernelspec": {
   "display_name": "Python 3.10.5 64-bit",
   "language": "python",
   "name": "python3"
  },
  "language_info": {
   "codemirror_mode": {
    "name": "ipython",
    "version": 3
   },
   "file_extension": ".py",
   "mimetype": "text/x-python",
   "name": "python",
   "nbconvert_exporter": "python",
   "pygments_lexer": "ipython3",
   "version": "3.10.5"
  },
  "orig_nbformat": 4,
  "vscode": {
   "interpreter": {
    "hash": "42165681ab10b1bf977adfd89e4bba52bb1422075634ab4a5613df7b4316a888"
   }
  }
 },
 "nbformat": 4,
 "nbformat_minor": 2
}
