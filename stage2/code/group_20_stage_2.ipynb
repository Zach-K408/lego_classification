{
 "cells": [
  {
   "cell_type": "markdown",
   "metadata": {},
   "source": [
    "# ENGR 418 Project - Stage 2\n",
    "## Sorting lego blocks using image data"
   ]
  },
  {
   "attachments": {},
   "cell_type": "markdown",
   "metadata": {},
   "source": [
    "- Group #20\n",
    "- Jesse Alele 82807728\n",
    "- Zach Kelly 41637836\n",
    "\n",
    "-------------------"
   ]
  },
  {
   "attachments": {},
   "cell_type": "markdown",
   "metadata": {},
   "source": [
    "### Import Statements"
   ]
  },
  {
   "cell_type": "code",
   "execution_count": 125,
   "metadata": {},
   "outputs": [],
   "source": [
    "import numpy as np \n",
    "import pandas as pd\n",
    "import matplotlib.pyplot as plt\n",
    "import os\n",
    "from sklearn.neighbors import KNeighborsClassifier\n",
    "from sklearn.metrics import confusion_matrix, accuracy_score\n",
    "from skimage import feature\n",
    "from skimage.io import imread, imshow\n",
    "from skimage.transform import resize\n",
    "from scipy.ndimage import rotate\n",
    "from sklearn.linear_model import LogisticRegression"
   ]
  },
  {
   "attachments": {},
   "cell_type": "markdown",
   "metadata": {},
   "source": [
    "### Feature Extraction"
   ]
  },
  {
   "cell_type": "code",
   "execution_count": 126,
   "metadata": {},
   "outputs": [],
   "source": [
    "def feature_extractor(folder):\n",
    "\n",
    "    # collect the file names in the folder directory\n",
    "    file_names = os.listdir(folder)\n",
    "    # define the square image size\n",
    "    im_size = 100\n",
    "    # initalize the feature array\n",
    "    x = []\n",
    "\n",
    "    # iterate through all the images in the specified folder \n",
    "    for i in range(len(file_names)):             \n",
    "       \n",
    "        # append the ith file name to folder path for reading in the ith image\n",
    "        dir = os.path.join(folder,file_names[i])\n",
    "        # read in the images as 2d grayscale array and resize to 100x100 pixels \n",
    "        im = imread(dir,as_gray=True)\n",
    "        im = resize(im, (100, 100))\n",
    "    \n",
    "        # get the dimensions of image\n",
    "        im_height = im.shape[0]\n",
    "        im_width = im.shape[1]\n",
    "        \n",
    "        ## Feature 1\n",
    "\n",
    "        # re-initialization\n",
    "        sig_edges = []\n",
    "        total_sig_edges = 0\n",
    "\n",
    "        # rotate the image between 0 and 180 degrees with 60 degree increments\n",
    "        for degree in range(0,180,60):\n",
    "\n",
    "            # rotate image by current degree\n",
    "            rotated_im = rotate(im, angle=degree, reshape=False, order=1)\n",
    "            # find edges of rotated image using canny algorithm. Outputs boolean 2D array of (100x100)\n",
    "            edges = feature.canny(image=rotated_im, sigma=5, low_threshold=0.001, high_threshold=0.08)\n",
    "            # sum the 2D array column wise (returns 1x100 array)\n",
    "            column_sums = np.array(edges.sum(axis=0))\n",
    "            \n",
    "            # truncate the values of column_sums that are less than 4 to 0 \n",
    "            for col in range(len(column_sums)):\n",
    "                \n",
    "                if column_sums[col] < 3:\n",
    "                    column_sums[col] = 0\n",
    "\n",
    "            # append the filtered column_sums array to sig_edges\n",
    "            sig_edges.append(sum(column_sums)) \n",
    "        \n",
    "        # total all the resulting sums for all the rotations of the image\n",
    "        total_sig_edges = sum(sig_edges)\n",
    "\n",
    "        ## Features 2, 3 and 4\n",
    "\n",
    "        # intialization\n",
    "        width = 0\n",
    "        diff_width = 0\n",
    "        prev_width = 0\n",
    "        min_width = 0\n",
    "        max_diff_width = 0\n",
    "        area = 0  \n",
    "\n",
    "        # find the edges of ith image (defualt orientation) using canny algorithm. Outputs boolean 2D array of (100x100)\n",
    "        im = feature.canny(image=im, sigma=5, low_threshold=0.001, high_threshold=0.08) \n",
    "\n",
    "        # iterate row by row through the 2D image array\n",
    "        for row in range(im_height): \n",
    "            # re-initialize left and right edge variables for every row\n",
    "            left_edge = 0\n",
    "            right_edge = 0\n",
    "            # update previous row width\n",
    "            prev_width = width\n",
    "\n",
    "            # iterate through the pixels in the current row \n",
    "            for col in range(im_width): \n",
    "                # if the pixel is an edge store as first edge and break loop\n",
    "                if(im[row][col] == True): \n",
    "                    left_edge = col\n",
    "                    break\n",
    "\n",
    "            # iterate through the pixels in the current row\n",
    "            for col in range(im_width): \n",
    "                # if the pixel is an edge store as last_edge (the last instance of an edge pixel will replace the value in last_edge) \n",
    "                if(im[row][col] == True):\n",
    "                    right_edge = col\n",
    "\n",
    "            ## Feature 2: get the area of the shape\n",
    "\n",
    "          \n",
    "            width = right_edge - left_edge # compute the width of the current row \n",
    "            area += width # add up all the slices of area (rows with dimensions width x pixel) \n",
    "            \n",
    "            ## Feature 3: get the smallest width\n",
    "\n",
    "            # store the current row width if not equal to 100 or 0 (the last row containing edge values will be left as min_width) \n",
    "            if(width < im_width and width != 0):\n",
    "                min_width = width\n",
    "\n",
    "            ## Feature 4: get the largest change in width between successive rows \n",
    "\n",
    "            # store the current change in width\n",
    "            diff_width = abs(width-prev_width) \n",
    "            # if the change is greater than the running total, replace the value\n",
    "            if(diff_width > max_diff_width ):\n",
    "                max_diff_width = diff_width\n",
    "\n",
    "        x.append([area,min_width,max_diff_width,total_sig_edges])\n",
    "\n",
    "    x = np.array(x)\n",
    "\n",
    "    return x"
   ]
  },
  {
   "attachments": {},
   "cell_type": "markdown",
   "metadata": {},
   "source": [
    "### Label Extraction"
   ]
  },
  {
   "cell_type": "code",
   "execution_count": 127,
   "metadata": {},
   "outputs": [],
   "source": [
    "def label_extractor(folder):\n",
    "\n",
    "    # get array containing all the file names in folder directory\n",
    "    file_names = os.listdir(folder)\n",
    "    # intialize label array\n",
    "    y = []\n",
    "    # initalize variables to store count of shapes\n",
    "    cir = 0\n",
    "    rec = 0\n",
    "    squ = 0\n",
    "\n",
    "    # iterate through the images in the specified folder\n",
    "    for i in range(len(file_names)):        \n",
    "        # fill label array\n",
    "        if 'cir' in file_names[i]:\n",
    "            y.append(0) # class circle\n",
    "            cir += 1 # count the number of circles\n",
    "        elif 'rec' in file_names[i]:\n",
    "            y.append(1) # class rectangle\n",
    "            rec += 1 # count the number of rectangles \n",
    "        elif 'squ' in file_names[i]:\n",
    "            y.append(2) # class square\n",
    "            squ += 1 # count the number of squares\n",
    "\n",
    "    # convert list to numpy array\n",
    "    y = np.array(y)\n",
    "\n",
    "    return y, cir, rec, squ"
   ]
  },
  {
   "attachments": {},
   "cell_type": "markdown",
   "metadata": {},
   "source": [
    "### Model Training"
   ]
  },
  {
   "cell_type": "code",
   "execution_count": 128,
   "metadata": {},
   "outputs": [
    {
     "data": {
      "text/html": [
       "<style>#sk-container-id-18 {color: black;background-color: white;}#sk-container-id-18 pre{padding: 0;}#sk-container-id-18 div.sk-toggleable {background-color: white;}#sk-container-id-18 label.sk-toggleable__label {cursor: pointer;display: block;width: 100%;margin-bottom: 0;padding: 0.3em;box-sizing: border-box;text-align: center;}#sk-container-id-18 label.sk-toggleable__label-arrow:before {content: \"▸\";float: left;margin-right: 0.25em;color: #696969;}#sk-container-id-18 label.sk-toggleable__label-arrow:hover:before {color: black;}#sk-container-id-18 div.sk-estimator:hover label.sk-toggleable__label-arrow:before {color: black;}#sk-container-id-18 div.sk-toggleable__content {max-height: 0;max-width: 0;overflow: hidden;text-align: left;background-color: #f0f8ff;}#sk-container-id-18 div.sk-toggleable__content pre {margin: 0.2em;color: black;border-radius: 0.25em;background-color: #f0f8ff;}#sk-container-id-18 input.sk-toggleable__control:checked~div.sk-toggleable__content {max-height: 200px;max-width: 100%;overflow: auto;}#sk-container-id-18 input.sk-toggleable__control:checked~label.sk-toggleable__label-arrow:before {content: \"▾\";}#sk-container-id-18 div.sk-estimator input.sk-toggleable__control:checked~label.sk-toggleable__label {background-color: #d4ebff;}#sk-container-id-18 div.sk-label input.sk-toggleable__control:checked~label.sk-toggleable__label {background-color: #d4ebff;}#sk-container-id-18 input.sk-hidden--visually {border: 0;clip: rect(1px 1px 1px 1px);clip: rect(1px, 1px, 1px, 1px);height: 1px;margin: -1px;overflow: hidden;padding: 0;position: absolute;width: 1px;}#sk-container-id-18 div.sk-estimator {font-family: monospace;background-color: #f0f8ff;border: 1px dotted black;border-radius: 0.25em;box-sizing: border-box;margin-bottom: 0.5em;}#sk-container-id-18 div.sk-estimator:hover {background-color: #d4ebff;}#sk-container-id-18 div.sk-parallel-item::after {content: \"\";width: 100%;border-bottom: 1px solid gray;flex-grow: 1;}#sk-container-id-18 div.sk-label:hover label.sk-toggleable__label {background-color: #d4ebff;}#sk-container-id-18 div.sk-serial::before {content: \"\";position: absolute;border-left: 1px solid gray;box-sizing: border-box;top: 0;bottom: 0;left: 50%;z-index: 0;}#sk-container-id-18 div.sk-serial {display: flex;flex-direction: column;align-items: center;background-color: white;padding-right: 0.2em;padding-left: 0.2em;position: relative;}#sk-container-id-18 div.sk-item {position: relative;z-index: 1;}#sk-container-id-18 div.sk-parallel {display: flex;align-items: stretch;justify-content: center;background-color: white;position: relative;}#sk-container-id-18 div.sk-item::before, #sk-container-id-18 div.sk-parallel-item::before {content: \"\";position: absolute;border-left: 1px solid gray;box-sizing: border-box;top: 0;bottom: 0;left: 50%;z-index: -1;}#sk-container-id-18 div.sk-parallel-item {display: flex;flex-direction: column;z-index: 1;position: relative;background-color: white;}#sk-container-id-18 div.sk-parallel-item:first-child::after {align-self: flex-end;width: 50%;}#sk-container-id-18 div.sk-parallel-item:last-child::after {align-self: flex-start;width: 50%;}#sk-container-id-18 div.sk-parallel-item:only-child::after {width: 0;}#sk-container-id-18 div.sk-dashed-wrapped {border: 1px dashed gray;margin: 0 0.4em 0.5em 0.4em;box-sizing: border-box;padding-bottom: 0.4em;background-color: white;}#sk-container-id-18 div.sk-label label {font-family: monospace;font-weight: bold;display: inline-block;line-height: 1.2em;}#sk-container-id-18 div.sk-label-container {text-align: center;}#sk-container-id-18 div.sk-container {/* jupyter's `normalize.less` sets `[hidden] { display: none; }` but bootstrap.min.css set `[hidden] { display: none !important; }` so we also need the `!important` here to be able to override the default hidden behavior on the sphinx rendered scikit-learn.org. See: https://github.com/scikit-learn/scikit-learn/issues/21755 */display: inline-block !important;position: relative;}#sk-container-id-18 div.sk-text-repr-fallback {display: none;}</style><div id=\"sk-container-id-18\" class=\"sk-top-container\"><div class=\"sk-text-repr-fallback\"><pre>KNeighborsClassifier(n_neighbors=1)</pre><b>In a Jupyter environment, please rerun this cell to show the HTML representation or trust the notebook. <br />On GitHub, the HTML representation is unable to render, please try loading this page with nbviewer.org.</b></div><div class=\"sk-container\" hidden><div class=\"sk-item\"><div class=\"sk-estimator sk-toggleable\"><input class=\"sk-toggleable__control sk-hidden--visually\" id=\"sk-estimator-id-18\" type=\"checkbox\" checked><label for=\"sk-estimator-id-18\" class=\"sk-toggleable__label sk-toggleable__label-arrow\">KNeighborsClassifier</label><div class=\"sk-toggleable__content\"><pre>KNeighborsClassifier(n_neighbors=1)</pre></div></div></div></div></div>"
      ],
      "text/plain": [
       "KNeighborsClassifier(n_neighbors=1)"
      ]
     },
     "execution_count": 128,
     "metadata": {},
     "output_type": "execute_result"
    }
   ],
   "source": [
    "# define folder path for training data\n",
    "train_folder = r\"\"\n",
    "\n",
    "# call feature_extractor() to collect feature data from training set\n",
    "x_train = feature_extractor(train_folder)\n",
    "# call label_extractor() to collect label data and shape counts from training set\n",
    "y_train, cir, rec, squ = label_extractor(train_folder)\n",
    "\n",
    "# intitialize and fit K Nearest Neighbours model\n",
    "knn = KNeighborsClassifier(n_neighbors=1)\n",
    "knn.fit(x_train,y_train)\n"
   ]
  },
  {
   "attachments": {},
   "cell_type": "markdown",
   "metadata": {},
   "source": [
    "### Testing Function"
   ]
  },
  {
   "cell_type": "code",
   "execution_count": 129,
   "metadata": {},
   "outputs": [],
   "source": [
    "def test_function(test_folder, model):\n",
    "\n",
    "    # call feature_extractor() to collect feature data\n",
    "    x = feature_extractor(test_folder)\n",
    "    # call label_extractor() to collect label data and shape counts\n",
    "    [y,cir,rec,squ] = label_extractor(test_folder)\n",
    "\n",
    "    # predict classes using trained model and feature data. Store in y_pred array\n",
    "    y_pred = knn.predict(x)\n",
    "\n",
    "    # assess predictions using accuracy score and confusion matrix metrics\n",
    "    accuracy = accuracy_score(y,y_pred)\n",
    "    confusion = pd.crosstab(y,y_pred)\n",
    "\n",
    "    # define list containing the lego shapes\n",
    "    shapes = ['circles','rectangles','squares']\n",
    "\n",
    "    # iterate through shapes array\n",
    "    for i in range(len(shapes)):\n",
    "\n",
    "        # compute the accuracy score of the ith shape using the confusion matrix\n",
    "        total = confusion.loc[i,:].sum()\n",
    "        shape_count = confusion.loc[i,i]\n",
    "        score = shape_count/total\n",
    "        # print the accuracy score of the ith shape\n",
    "        print(f'The accuracy score on the {shapes[i]} is: {score*100:.2f}%')\n",
    "\n",
    "    # print overall accuracy score and confusion matrix\n",
    "    print(f'The overall accuracy score is: {accuracy*100:.2f}%')\n",
    "    print('--------------------------------------')\n",
    "    print('The confusion matrix is:')\n",
    "    display(confusion)\n",
    "    \n",
    "    return"
   ]
  },
  {
   "attachments": {},
   "cell_type": "markdown",
   "metadata": {},
   "source": [
    "### Accuracy on Training Set"
   ]
  },
  {
   "cell_type": "code",
   "execution_count": 130,
   "metadata": {},
   "outputs": [
    {
     "name": "stdout",
     "output_type": "stream",
     "text": [
      "The accuracy score on the circles is: 100.00%\n",
      "The accuracy score on the rectangles is: 100.00%\n",
      "The accuracy score on the squares is: 100.00%\n",
      "The overall accuracy score is: 100.00%\n",
      "--------------------------------------\n",
      "The confusion matrix is:\n"
     ]
    },
    {
     "data": {
      "text/html": [
       "<div>\n",
       "<style scoped>\n",
       "    .dataframe tbody tr th:only-of-type {\n",
       "        vertical-align: middle;\n",
       "    }\n",
       "\n",
       "    .dataframe tbody tr th {\n",
       "        vertical-align: top;\n",
       "    }\n",
       "\n",
       "    .dataframe thead th {\n",
       "        text-align: right;\n",
       "    }\n",
       "</style>\n",
       "<table border=\"1\" class=\"dataframe\">\n",
       "  <thead>\n",
       "    <tr style=\"text-align: right;\">\n",
       "      <th>col_0</th>\n",
       "      <th>0</th>\n",
       "      <th>1</th>\n",
       "      <th>2</th>\n",
       "    </tr>\n",
       "    <tr>\n",
       "      <th>row_0</th>\n",
       "      <th></th>\n",
       "      <th></th>\n",
       "      <th></th>\n",
       "    </tr>\n",
       "  </thead>\n",
       "  <tbody>\n",
       "    <tr>\n",
       "      <th>0</th>\n",
       "      <td>36</td>\n",
       "      <td>0</td>\n",
       "      <td>0</td>\n",
       "    </tr>\n",
       "    <tr>\n",
       "      <th>1</th>\n",
       "      <td>0</td>\n",
       "      <td>36</td>\n",
       "      <td>0</td>\n",
       "    </tr>\n",
       "    <tr>\n",
       "      <th>2</th>\n",
       "      <td>0</td>\n",
       "      <td>0</td>\n",
       "      <td>36</td>\n",
       "    </tr>\n",
       "  </tbody>\n",
       "</table>\n",
       "</div>"
      ],
      "text/plain": [
       "col_0   0   1   2\n",
       "row_0            \n",
       "0      36   0   0\n",
       "1       0  36   0\n",
       "2       0   0  36"
      ]
     },
     "metadata": {},
     "output_type": "display_data"
    }
   ],
   "source": [
    "# define folder path for training data\n",
    "train_folder = r\"\"\n",
    "\n",
    "# call test_function() and pass the training set path and trained K Nearest Neighbour model\n",
    "test_function(train_folder,knn)"
   ]
  },
  {
   "attachments": {},
   "cell_type": "markdown",
   "metadata": {},
   "source": [
    "### Accuracy on Test Set"
   ]
  },
  {
   "cell_type": "code",
   "execution_count": 131,
   "metadata": {},
   "outputs": [
    {
     "name": "stdout",
     "output_type": "stream",
     "text": [
      "The accuracy score on the circles is: 100.00%\n",
      "The accuracy score on the rectangles is: 88.89%\n",
      "The accuracy score on the squares is: 83.33%\n",
      "The overall accuracy score is: 90.74%\n",
      "--------------------------------------\n",
      "The confusion matrix is:\n"
     ]
    },
    {
     "data": {
      "text/html": [
       "<div>\n",
       "<style scoped>\n",
       "    .dataframe tbody tr th:only-of-type {\n",
       "        vertical-align: middle;\n",
       "    }\n",
       "\n",
       "    .dataframe tbody tr th {\n",
       "        vertical-align: top;\n",
       "    }\n",
       "\n",
       "    .dataframe thead th {\n",
       "        text-align: right;\n",
       "    }\n",
       "</style>\n",
       "<table border=\"1\" class=\"dataframe\">\n",
       "  <thead>\n",
       "    <tr style=\"text-align: right;\">\n",
       "      <th>col_0</th>\n",
       "      <th>0</th>\n",
       "      <th>1</th>\n",
       "      <th>2</th>\n",
       "    </tr>\n",
       "    <tr>\n",
       "      <th>row_0</th>\n",
       "      <th></th>\n",
       "      <th></th>\n",
       "      <th></th>\n",
       "    </tr>\n",
       "  </thead>\n",
       "  <tbody>\n",
       "    <tr>\n",
       "      <th>0</th>\n",
       "      <td>18</td>\n",
       "      <td>0</td>\n",
       "      <td>0</td>\n",
       "    </tr>\n",
       "    <tr>\n",
       "      <th>1</th>\n",
       "      <td>0</td>\n",
       "      <td>16</td>\n",
       "      <td>2</td>\n",
       "    </tr>\n",
       "    <tr>\n",
       "      <th>2</th>\n",
       "      <td>3</td>\n",
       "      <td>0</td>\n",
       "      <td>15</td>\n",
       "    </tr>\n",
       "  </tbody>\n",
       "</table>\n",
       "</div>"
      ],
      "text/plain": [
       "col_0   0   1   2\n",
       "row_0            \n",
       "0      18   0   0\n",
       "1       0  16   2\n",
       "2       3   0  15"
      ]
     },
     "metadata": {},
     "output_type": "display_data"
    }
   ],
   "source": [
    "# define folder path for testing data\n",
    "test_folder = r\"\"\n",
    "\n",
    "# call test_function() and pass the training set path and trained K Nearest Neighbour model\n",
    "test_function(test_folder,knn)"
   ]
  }
 ],
 "metadata": {
  "kernelspec": {
   "display_name": "Python 3.10.5 64-bit",
   "language": "python",
   "name": "python3"
  },
  "language_info": {
   "codemirror_mode": {
    "name": "ipython",
    "version": 3
   },
   "file_extension": ".py",
   "mimetype": "text/x-python",
   "name": "python",
   "nbconvert_exporter": "python",
   "pygments_lexer": "ipython3",
   "version": "3.10.5 (tags/v3.10.5:f377153, Jun  6 2022, 16:14:13) [MSC v.1929 64 bit (AMD64)]"
  },
  "orig_nbformat": 4,
  "vscode": {
   "interpreter": {
    "hash": "42165681ab10b1bf977adfd89e4bba52bb1422075634ab4a5613df7b4316a888"
   }
  }
 },
 "nbformat": 4,
 "nbformat_minor": 2
}
