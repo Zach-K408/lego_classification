{
 "cells": [
  {
   "cell_type": "markdown",
   "metadata": {},
   "source": [
    "# ENGR 418 Project - Stage 1\n",
    "## Sorting using raw images"
   ]
  },
  {
   "cell_type": "markdown",
   "metadata": {},
   "source": [
    "- Group #20\n",
    "- Jesse Adele \n",
    "- Zach Kelly 41637836"
   ]
  },
  {
   "cell_type": "markdown",
   "metadata": {},
   "source": [
    "Import python modules"
   ]
  },
  {
   "cell_type": "code",
   "execution_count": 1,
   "metadata": {},
   "outputs": [],
   "source": [
    "import numpy as np \n",
    "import matplotlib.pyplot as plt\n",
    "import os\n",
    "from numpy import asarray\n",
    "from sklearn.linear_model import LogisticRegression\n",
    "from sklearn.metrics import confusion_matrix, accuracy_score\n",
    "from PIL import Image"
   ]
  },
  {
   "cell_type": "markdown",
   "metadata": {},
   "source": [
    "Define function to get training and testing data from raw image files"
   ]
  },
  {
   "cell_type": "code",
   "execution_count": 52,
   "metadata": {},
   "outputs": [],
   "source": [
    "im_width = int(np.sqrt(4067))\n",
    "im_length = int(np.sqrt(4067))\n",
    "\n",
    "def get_data(folder, im_width, im_length):\n",
    "\n",
    "    # create list of file names inside folder\n",
    "    file_names = os.listdir(folder)\n",
    "    # intialize np array to store feature data\n",
    "    x = np.empty((len(file_names),im_width*im_length))\n",
    "    # initialize np array to store class labels\n",
    "    y = np.empty((len(file_names),1))\n",
    "    \n",
    "    num_cir = 0 # Number of images that are labelled as circle\n",
    "    num_rec = 0 # Number of images that are labelled as rectangle\n",
    "    num_squ = 0 # Number of images that are labelled as square\n",
    "    \n",
    "    for i in range(len(file_names)):\n",
    "       \n",
    "        # fill class labels array\n",
    "        if 'cir' in file_names[i]:\n",
    "            y[i] = 0 # class circle\n",
    "            #num_cir = num_cir + 1\n",
    "        elif 'rec' in file_names[i]:\n",
    "            y[i] = 1 # class rectangle\n",
    "            #num_rec = num_rec + 1\n",
    "        elif 'squ' in file_names[i]:\n",
    "            y[i] = 2 # class square\n",
    "            #num_squ = num_squ + 1\n",
    "        # fill feature array\n",
    "        \n",
    "        path = folder + '/' + file_names[i]\n",
    "        im = Image.open(path).convert('L')\n",
    "        im = im.resize((im_length,im_width))\n",
    "        im_array = asarray(im) \n",
    "        x[i,:] = im_array.reshape(1,-1)\n",
    "\n",
    "    return x, y"
   ]
  },
  {
   "cell_type": "markdown",
   "metadata": {},
   "source": [
    "Training analysis"
   ]
  },
  {
   "cell_type": "code",
   "execution_count": 69,
   "metadata": {},
   "outputs": [
    {
     "name": "stderr",
     "output_type": "stream",
     "text": [
      "c:\\Users\\zachk\\AppData\\Local\\Programs\\Python\\Python310\\lib\\site-packages\\sklearn\\utils\\validation.py:1111: DataConversionWarning: A column-vector y was passed when a 1d array was expected. Please change the shape of y to (n_samples, ), for example using ravel().\n",
      "  y = column_or_1d(y, warn=True)\n"
     ]
    },
    {
     "name": "stdout",
     "output_type": "stream",
     "text": [
      "The confusion matrix is:\n",
      " [[36  0  0]\n",
      " [ 0 36  0]\n",
      " [ 0  0 36]]\n",
      "The accuracy score on the circles is: 100.00%\n",
      "The accuracy score on the rectangles is: 100.00%\n",
      "The accuracy score on the squares is: 100.00%\n",
      "The accuracy score on the training data set is: 100.00%\n"
     ]
    },
    {
     "name": "stderr",
     "output_type": "stream",
     "text": [
      "c:\\Users\\zachk\\AppData\\Local\\Programs\\Python\\Python310\\lib\\site-packages\\sklearn\\linear_model\\_logistic.py:444: ConvergenceWarning: lbfgs failed to converge (status=1):\n",
      "STOP: TOTAL NO. of ITERATIONS REACHED LIMIT.\n",
      "\n",
      "Increase the number of iterations (max_iter) or scale the data as shown in:\n",
      "    https://scikit-learn.org/stable/modules/preprocessing.html\n",
      "Please also refer to the documentation for alternative solver options:\n",
      "    https://scikit-learn.org/stable/modules/linear_model.html#logistic-regression\n",
      "  n_iter_i = _check_optimize_result(\n"
     ]
    }
   ],
   "source": [
    "# Define training folder path\n",
    "training_folder = r\"C:\\Users\\zachk\\Documents\\ubco\\year5\\ubc_term1\\engr418\\project\\Lego_dataset_1\\training\"\n",
    "\n",
    "x_train, y_train = get_data(training_folder,im_width,im_length)\n",
    "\n",
    "model = LogisticRegression()\n",
    "model.fit(x_train, y_train)\n",
    "\n",
    "y_train_pred = model.predict(x_train)\n",
    "\n",
    "print(f'The confusion matrix is:\\n {confusion_matrix(y_train,y_train_pred)}')\n",
    "print(f'The accuracy score on the circles is: {accuracy_score(y_train[0:int(len(y_train)/3),0],y_train_pred[0:int(len(y_train_pred)/3)])*100:.2f}%')\n",
    "print(f'The accuracy score on the rectangles is: {accuracy_score(y_train[int(len(y_train)/3):int((2*len(y_train))/3),0],y_train_pred[int(len(y_train_pred)/3):int((2*len(y_train_pred))/3)])*100:.2f}%')\n",
    "print(f'The accuracy score on the squares is: {accuracy_score(y_train[int((2*len(y_train))/3):int(len(y_train)),0],y_train_pred[int((2*len(y_train_pred))/3):int(len(y_train_pred))])*100:.2f}%')\n",
    "print(f'The accuracy score on the training data set is: {accuracy_score(y_train,y_train_pred)*100:.2f}%')"
   ]
  },
  {
   "cell_type": "markdown",
   "metadata": {},
   "source": [
    "Testing analysis"
   ]
  },
  {
   "cell_type": "code",
   "execution_count": 67,
   "metadata": {},
   "outputs": [
    {
     "name": "stdout",
     "output_type": "stream",
     "text": [
      "[array([0.]), array([0.]), array([0.]), array([0.]), array([0.]), array([0.]), array([0.]), array([0.]), array([0.]), array([0.]), array([0.]), array([0.]), array([0.]), array([0.]), array([0.]), array([0.]), array([0.]), array([0.]), array([1.]), array([1.]), array([1.]), array([1.]), array([1.]), array([1.]), array([1.]), array([1.]), array([1.]), array([1.]), array([1.]), array([1.]), array([1.]), array([1.]), array([1.]), array([1.]), array([1.]), array([1.]), array([2.]), array([2.]), array([2.]), array([2.]), array([2.]), array([2.]), array([2.]), array([2.]), array([2.]), array([2.]), array([2.]), array([2.]), array([2.]), array([2.]), array([2.]), array([2.]), array([2.]), array([2.])] [0.0, 2.0, 0.0, 0.0, 0.0, 0.0, 0.0, 0.0, 0.0, 0.0, 0.0, 0.0, 0.0, 0.0, 0.0, 0.0, 0.0, 0.0, 1.0, 1.0, 1.0, 1.0, 1.0, 1.0, 1.0, 1.0, 1.0, 1.0, 1.0, 1.0, 1.0, 1.0, 1.0, 1.0, 1.0, 2.0, 2.0, 2.0, 2.0, 2.0, 2.0, 2.0, 2.0, 2.0, 2.0, 2.0, 2.0, 2.0, 2.0, 2.0, 2.0, 2.0, 0.0, 2.0]\n",
      "18.0\n",
      "The accuracy score on the circles is: 94.44%\n",
      "The accuracy score on the rectangles is: 94.44%\n",
      "The accuracy score on the squares is: 94.44%\n",
      "The accuracy score on the entire training dataset is: 94.44%\n",
      "The confusion matrix is:\n",
      " [[17  0  1]\n",
      " [ 0 17  1]\n",
      " [ 1  0 17]]\n"
     ]
    }
   ],
   "source": [
    "# Define training folder path\n",
    "testing_folder = r\"C:\\Users\\zachk\\Documents\\ubco\\year5\\ubc_term1\\engr418\\project\\Lego_dataset_1\\testing\"\n",
    "\n",
    "x_test, y_test = get_data(testing_folder,im_width,im_length) # store the returned data from get_data as x_test, y_test\n",
    "\n",
    "y_test_pred = model.predict(x_test)\n",
    "\n",
    "print(f'The confusion matrix is:\\n {confusion_matrix(y_test,y_test_pred)}')\n",
    "print(list(y_test),list(y_test_pred))\n",
    "print(len(y_test)/3)\n",
    "print(f'The accuracy score on the circles is: {accuracy_score(y_test[0:int(len(y_test)/3),0],y_test_pred[0:int(len(y_test)/3)])*100:.2f}%')\n",
    "print(f'The accuracy score on the rectangles is: {accuracy_score(y_test[int(len(y_test)/3):int((2*len(y_test))/3),0],y_test_pred[int(len(y_test)/3):int((2*len(y_test))/3)])*100:.2f}%')\n",
    "print(f'The accuracy score on the squares is: {accuracy_score(y_test[int((2*len(y_test))/3):int(len(y_test)),0],y_test_pred[int((2*len(y_test))/3):int(len(y_test))])*100:.2f}%')\n",
    "print(f'The accuracy score on the entire training dataset is: {accuracy_score(y_test,y_test_pred)*100:.2f}%')"
   ]
  }
 ],
 "metadata": {
  "kernelspec": {
   "display_name": "Python 3.10.5 64-bit",
   "language": "python",
   "name": "python3"
  },
  "language_info": {
   "codemirror_mode": {
    "name": "ipython",
    "version": 3
   },
   "file_extension": ".py",
   "mimetype": "text/x-python",
   "name": "python",
   "nbconvert_exporter": "python",
   "pygments_lexer": "ipython3",
   "version": "3.10.5"
  },
  "orig_nbformat": 4,
  "vscode": {
   "interpreter": {
    "hash": "42165681ab10b1bf977adfd89e4bba52bb1422075634ab4a5613df7b4316a888"
   }
  }
 },
 "nbformat": 4,
 "nbformat_minor": 2
}
