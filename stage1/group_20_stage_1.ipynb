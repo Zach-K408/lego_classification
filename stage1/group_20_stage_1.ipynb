{
 "cells": [
  {
   "cell_type": "markdown",
   "metadata": {},
   "source": [
    "# ENGR 418 Project - Stage 1\n",
    "## Sorting using raw images"
   ]
  },
  {
   "cell_type": "markdown",
   "metadata": {},
   "source": [
    "- Group #20\n",
    "- Jesse Alele 82807728\n",
    "- Zach Kelly 41637836"
   ]
  },
  {
   "cell_type": "markdown",
   "metadata": {},
   "source": [
    "Import python modules"
   ]
  },
  {
   "cell_type": "code",
   "execution_count": 18,
   "metadata": {},
   "outputs": [],
   "source": [
    "import numpy as np \n",
    "import matplotlib.pyplot as plt\n",
    "import os\n",
    "from numpy import asarray\n",
    "from sklearn.linear_model import LogisticRegression\n",
    "from sklearn.metrics import confusion_matrix, accuracy_score\n",
    "from PIL import Image\n",
    "import pandas as pd"
   ]
  },
  {
   "cell_type": "markdown",
   "metadata": {},
   "source": [
    "Define function to get training and testing data from raw image files"
   ]
  },
  {
   "cell_type": "code",
   "execution_count": 19,
   "metadata": {},
   "outputs": [],
   "source": [
    "im_width = int(np.sqrt(4067)) \n",
    "im_length = int(np.sqrt(4067))\n",
    "\n",
    "def get_data(folder, im_width, im_length):\n",
    "\n",
    "    # create list of file names inside folder\n",
    "    file_names = os.listdir(folder)\n",
    "    # intialize np array to store feature data\n",
    "    x = np.empty((len(file_names),im_width*im_length))\n",
    "    # initialize np array to store class labels\n",
    "    y = np.empty((len(file_names),1))\n",
    "    \n",
    "    num_cir = 0 # number of images that are labelled as class circle\n",
    "    num_rec = 0 # number of images that are labelled as class rectangle\n",
    "    num_squ = 0 # number of images that are labelled as class square\n",
    "    \n",
    "    for i in range(len(file_names)):\n",
    "       \n",
    "        # fill class labels array\n",
    "        if 'cir' in file_names[i]:\n",
    "            y[i] = 0 # class circle\n",
    "            num_cir = num_cir + 1 # keep running count of circle labels\n",
    "        elif 'rec' in file_names[i]:\n",
    "            y[i] = 1 # class rectangle\n",
    "            num_rec = num_rec + 1 # keep running count of rectangle labels\n",
    "        elif 'squ' in file_names[i]:\n",
    "            y[i] = 2 # class square\n",
    "            num_squ = num_squ + 1 # keep running count of square labels\n",
    "            \n",
    "        # fill feature array\n",
    "        path = folder + '/' + file_names[i] # update path as we iterate through file_names array\n",
    "        im = Image.open(path).convert('L') # open ith image and convert to grayscale\n",
    "        im = im.resize((im_length,im_width)) # resize to specified pixel length and width\n",
    "        im_array = asarray(im) # convert to numpy array\n",
    "        x[i,:] = im_array.reshape(1,-1) # reshape to im_length*im_width columns by one row then insert as ith row in x\n",
    "    \n",
    "    # assure the folder contains an equal count of each different shape, so only one variable (num_shape) is needed to seperate the shapes in class labels array\n",
    "    if num_cir == num_rec == num_squ:\n",
    "        num_shape = num_cir\n",
    "    else:\n",
    "        print('The number of circles, rectangles and squares in the specified folder are not equal')\n",
    "\n",
    "    return x, y, num_shape"
   ]
  },
  {
   "cell_type": "markdown",
   "metadata": {},
   "source": [
    "Training analysis"
   ]
  },
  {
   "cell_type": "code",
   "execution_count": 20,
   "metadata": {},
   "outputs": [
    {
     "name": "stderr",
     "output_type": "stream",
     "text": [
      "c:\\Users\\zachk\\AppData\\Local\\Programs\\Python\\Python310\\lib\\site-packages\\sklearn\\utils\\validation.py:1111: DataConversionWarning: A column-vector y was passed when a 1d array was expected. Please change the shape of y to (n_samples, ), for example using ravel().\n",
      "  y = column_or_1d(y, warn=True)\n"
     ]
    },
    {
     "name": "stdout",
     "output_type": "stream",
     "text": [
      "The confusion matrix is:\n",
      " [[27  0  0]\n",
      " [ 0 27  0]\n",
      " [ 0  0 27]]\n",
      "The accuracy score on the circles is: 100.00%\n",
      "The accuracy score on the rectangles is: 100.00%\n",
      "The accuracy score on the squares is: 100.00%\n",
      "The accuracy score on the training data set is: 100.00%\n"
     ]
    },
    {
     "name": "stderr",
     "output_type": "stream",
     "text": [
      "c:\\Users\\zachk\\AppData\\Local\\Programs\\Python\\Python310\\lib\\site-packages\\sklearn\\linear_model\\_logistic.py:444: ConvergenceWarning: lbfgs failed to converge (status=1):\n",
      "STOP: TOTAL NO. of ITERATIONS REACHED LIMIT.\n",
      "\n",
      "Increase the number of iterations (max_iter) or scale the data as shown in:\n",
      "    https://scikit-learn.org/stable/modules/preprocessing.html\n",
      "Please also refer to the documentation for alternative solver options:\n",
      "    https://scikit-learn.org/stable/modules/linear_model.html#logistic-regression\n",
      "  n_iter_i = _check_optimize_result(\n"
     ]
    }
   ],
   "source": [
    "# Define training folder path\n",
    "training_folder = r\"C:\\Users\\zachk\\Documents\\ubco\\year5\\ubc_term1\\engr418\\project\\stage2\\lego_dataset_2\\training\"\n",
    "# store the returned data from get_data as x_train, y_train, num_shape\n",
    "x_train, y_train, num_shape = get_data(training_folder,im_width,im_length) \n",
    "\n",
    "model = LogisticRegression() \n",
    "model.fit(x_train, y_train)\n",
    "\n",
    "y_train_pred = model.predict(x_train)\n",
    "confusion = confusion_matrix(y_train,y_train_pred)\n",
    "\n",
    "print(f'The confusion matrix is:\\n {confusion}')\n",
    "print(f'The accuracy score on the circles is: {accuracy_score(y_train[0:num_shape,0],y_train_pred[0:num_shape])*100:.2f}%')\n",
    "print(f'The accuracy score on the rectangles is: {accuracy_score(y_train[num_shape:2*num_shape,0],y_train_pred[num_shape:2*num_shape])*100:.2f}%')\n",
    "print(f'The accuracy score on the squares is: {accuracy_score(y_train[2*num_shape:3*num_shape,0],y_train_pred[2*num_shape:3*num_shape])*100:.2f}%')\n",
    "print(f'The accuracy score on the training data set is: {accuracy_score(y_train,y_train_pred)*100:.2f}%')"
   ]
  },
  {
   "cell_type": "markdown",
   "metadata": {},
   "source": [
    "Testing analysis"
   ]
  },
  {
   "cell_type": "code",
   "execution_count": 21,
   "metadata": {},
   "outputs": [
    {
     "name": "stdout",
     "output_type": "stream",
     "text": [
      "The confusion matrix is:\n",
      " [[17  8  2]\n",
      " [ 3 19  5]\n",
      " [10  7 10]]\n",
      "The accuracy score on the circles is: 62.96%\n",
      "The accuracy score on the rectangles is: 70.37%\n",
      "The accuracy score on the squares is: 37.04%\n",
      "The accuracy score on the entire training dataset is: 56.79%\n"
     ]
    }
   ],
   "source": [
    "# define testing folder path\n",
    "testing_folder = r\"C:\\Users\\zachk\\Documents\\ubco\\year5\\ubc_term1\\engr418\\project\\stage2\\lego_dataset_2\\testing\"\n",
    "# store the returned data from get_data as x_test, y_test, num_shape\n",
    "x_test, y_test, num_shape = get_data(testing_folder,im_width,im_length) \n",
    "\n",
    "def test_function(folder, im_width, im_length):\n",
    "\n",
    "    # create list of file names inside folder\n",
    "    file_names = os.listdir(folder)\n",
    "    # intialize np array to store feature data\n",
    "    x = np.empty((len(file_names),im_width*im_length))\n",
    "    # initialize np array to store class labels\n",
    "    y = np.empty((len(file_names),1))\n",
    "    \n",
    "    num_cir = 0 # number of images that are labelled as class circle\n",
    "    num_rec = 0 # number of images that are labelled as class rectangle\n",
    "    num_squ = 0 # number of images that are labelled as class square\n",
    "    \n",
    "    for i in range(len(file_names)):\n",
    "       \n",
    "        # fill class labels array\n",
    "        if 'cir' in file_names[i]:\n",
    "            y[i] = 0 # class circle\n",
    "            num_cir = num_cir + 1 # keep running count of cirlce labels\n",
    "        elif 'rec' in file_names[i]: \n",
    "            y[i] = 1 # class rectangle\n",
    "            num_rec = num_rec + 1 # keep running count of rectangle labels\n",
    "        elif 'squ' in file_names[i]: \n",
    "            y[i] = 2 # class square\n",
    "            num_squ = num_squ + 1 # keep running count of square labels\n",
    "            \n",
    "        # fill feature array\n",
    "        path = folder + '/' + file_names[i] # update path as we iterate through file_names array\n",
    "        im = Image.open(path).convert('L') # open ith image and convert to grayscale\n",
    "        im = im.resize((im_length,im_width)) # resize to specified pixel length and width\n",
    "        im_array = asarray(im) # convert to numpy array\n",
    "        x[i,:] = im_array.reshape(1,-1) # reshape to im_length*im_width columns by one row then insert as ith row in x\n",
    "    \n",
    "    # assure the folder contains an equal number of the different shapes, so only one variable (num_shape) is needed to seperate the shapes in class labels array\n",
    "    if num_cir == num_rec == num_squ:\n",
    "        num_shape = num_cir\n",
    "    else: \n",
    "        print('The number of circles, rectangles and squares in the specified folder are not equal')\n",
    "\n",
    "    y_test_pred = model.predict(x)\n",
    "    test_accuracy = accuracy_score(y,y_test_pred)\n",
    "    cir_accuracy = accuracy_score(y_test[0:num_shape,0],y_test_pred[0:num_shape])\n",
    "    rec_accuracy = accuracy_score(y_test[num_shape:2*num_shape,0],y_test_pred[num_shape:2*num_shape])\n",
    "    squ_accuracy = accuracy_score(y_test[2*num_shape:3*num_shape,0],y_test_pred[2*num_shape:3*num_shape])\n",
    "    test_confusion = confusion_matrix(y,y_test_pred)\n",
    "    \n",
    "    return test_confusion, test_accuracy, cir_accuracy, rec_accuracy, squ_accuracy\n",
    "\n",
    "test_confusion, test_accuracy, cir_accuracy, rec_accuracy, squ_accuracy = test_function(testing_folder,im_width,im_length)\n",
    "\n",
    "\n",
    "print(f'The confusion matrix is:\\n {test_confusion}')\n",
    "print(f'The accuracy score on the circles is: {cir_accuracy*100:.2f}%')\n",
    "print(f'The accuracy score on the rectangles is: {rec_accuracy*100:.2f}%')\n",
    "print(f'The accuracy score on the squares is: {squ_accuracy*100:.2f}%')\n",
    "print(f'The accuracy score on the entire training dataset is: {test_accuracy*100:.2f}%')\n"
   ]
  },
  {
   "cell_type": "code",
   "execution_count": null,
   "metadata": {},
   "outputs": [],
   "source": []
  }
 ],
 "metadata": {
  "kernelspec": {
   "display_name": "Python 3.10.5 64-bit",
   "language": "python",
   "name": "python3"
  },
  "language_info": {
   "codemirror_mode": {
    "name": "ipython",
    "version": 3
   },
   "file_extension": ".py",
   "mimetype": "text/x-python",
   "name": "python",
   "nbconvert_exporter": "python",
   "pygments_lexer": "ipython3",
   "version": "3.10.5"
  },
  "orig_nbformat": 4,
  "vscode": {
   "interpreter": {
    "hash": "42165681ab10b1bf977adfd89e4bba52bb1422075634ab4a5613df7b4316a888"
   }
  }
 },
 "nbformat": 4,
 "nbformat_minor": 2
}
