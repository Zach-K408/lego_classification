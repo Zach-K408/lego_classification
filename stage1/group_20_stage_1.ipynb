{
 "cells": [
  {
   "cell_type": "markdown",
   "metadata": {},
   "source": [
    "# ENGR 418 Project - Stage 1\n",
    "## Sorting using raw images"
   ]
  },
  {
   "cell_type": "markdown",
   "metadata": {},
   "source": [
    "- Group #20\n",
    "- Jesse Alele 82807728\n",
    "- Zach Kelly 41637836"
   ]
  },
  {
   "cell_type": "markdown",
   "metadata": {},
   "source": [
    "Import python modules"
   ]
  },
  {
   "cell_type": "code",
   "execution_count": 7,
   "metadata": {},
   "outputs": [],
   "source": [
    "import numpy as np \n",
    "import matplotlib.pyplot as plt\n",
    "import os\n",
    "from numpy import asarray\n",
    "from sklearn.linear_model import LogisticRegression\n",
    "from sklearn.metrics import confusion_matrix, accuracy_score\n",
    "from PIL import Image"
   ]
  },
  {
   "cell_type": "markdown",
   "metadata": {},
   "source": [
    "Define function to get training and testing data from raw image files"
   ]
  },
  {
   "cell_type": "code",
   "execution_count": 8,
   "metadata": {},
   "outputs": [],
   "source": [
    "im_width = int(np.sqrt(4067)) \n",
    "im_length = int(np.sqrt(4067))\n",
    "\n",
    "def get_data(folder, im_width, im_length):\n",
    "\n",
    "    # create list of file names inside folder\n",
    "    file_names = os.listdir(folder)\n",
    "    # intialize np array to store feature data\n",
    "    x = np.empty((len(file_names),im_width*im_length))\n",
    "    # initialize np array to store class labels\n",
    "    y = np.empty((len(file_names),1))\n",
    "    \n",
    "    num_cir = 0 # number of images that are labelled as class circle\n",
    "    num_rec = 0 # number of images that are labelled as class rectangle\n",
    "    num_squ = 0 # number of images that are labelled as class square\n",
    "    \n",
    "    for i in range(len(file_names)):\n",
    "       \n",
    "        # fill class labels array\n",
    "        if 'cir' in file_names[i]:\n",
    "            y[i] = 0 # class circle\n",
    "            num_cir = num_cir + 1 # keep running count of circle labels\n",
    "        elif 'rec' in file_names[i]:\n",
    "            y[i] = 1 # class rectangle\n",
    "            num_rec = num_rec + 1 # keep running count of rectangle labels\n",
    "        elif 'squ' in file_names[i]:\n",
    "            y[i] = 2 # class square\n",
    "            num_squ = num_squ + 1 # keep running count of square labels\n",
    "            \n",
    "        # fill feature array\n",
    "        path = folder + '/' + file_names[i] # update path as we iterate through file_names array\n",
    "        im = Image.open(path).convert('L') # open ith image and convert to grayscale\n",
    "        im = im.resize((im_length,im_width)) # resize to specified pixel length and width\n",
    "        im_array = asarray(im) # convert to numpy array\n",
    "        x[i,:] = im_array.reshape(1,-1) # reshape to im_length*im_width columns by one row then insert as ith row in x\n",
    "    \n",
    "    # assure the folder contains an equal count of each different shape, so only one variable (num_shape) is needed to seperate the shapes in class labels array\n",
    "    if num_cir == num_rec == num_squ:\n",
    "        num_shape = num_cir\n",
    "    else:\n",
    "        print('The number of circles, rectangles and squares in the specified folder are not equal')\n",
    "\n",
    "    return x, y, num_shape"
   ]
  },
  {
   "cell_type": "markdown",
   "metadata": {},
   "source": [
    "Training analysis"
   ]
  },
  {
   "cell_type": "code",
   "execution_count": 9,
   "metadata": {},
   "outputs": [
    {
     "name": "stderr",
     "output_type": "stream",
     "text": [
      "c:\\Users\\zachk\\AppData\\Local\\Programs\\Python\\Python310\\lib\\site-packages\\sklearn\\utils\\validation.py:1111: DataConversionWarning: A column-vector y was passed when a 1d array was expected. Please change the shape of y to (n_samples, ), for example using ravel().\n",
      "  y = column_or_1d(y, warn=True)\n"
     ]
    },
    {
     "name": "stdout",
     "output_type": "stream",
     "text": [
      "The confusion matrix is:\n",
      " [[36  0  0]\n",
      " [ 0 36  0]\n",
      " [ 0  0 36]]\n",
      "The accuracy score on the circles is: 100.00%\n",
      "The accuracy score on the rectangles is: 100.00%\n",
      "The accuracy score on the squares is: 100.00%\n",
      "The accuracy score on the training data set is: 100.00%\n"
     ]
    },
    {
     "name": "stderr",
     "output_type": "stream",
     "text": [
      "c:\\Users\\zachk\\AppData\\Local\\Programs\\Python\\Python310\\lib\\site-packages\\sklearn\\linear_model\\_logistic.py:444: ConvergenceWarning: lbfgs failed to converge (status=1):\n",
      "STOP: TOTAL NO. of ITERATIONS REACHED LIMIT.\n",
      "\n",
      "Increase the number of iterations (max_iter) or scale the data as shown in:\n",
      "    https://scikit-learn.org/stable/modules/preprocessing.html\n",
      "Please also refer to the documentation for alternative solver options:\n",
      "    https://scikit-learn.org/stable/modules/linear_model.html#logistic-regression\n",
      "  n_iter_i = _check_optimize_result(\n"
     ]
    }
   ],
   "source": [
    "# Define training folder path\n",
    "training_folder = r\"C:\\Users\\zachk\\Documents\\ubco\\year5\\ubc_term1\\engr418\\project\\Lego_dataset_1\\training\"\n",
    "# store the returned data from get_data as x_train, y_train, num_shape\n",
    "x_train, y_train, num_shape = get_data(training_folder,im_width,im_length) \n",
    "\n",
    "model = LogisticRegression() \n",
    "model.fit(x_train, y_train)\n",
    "\n",
    "y_train_pred = model.predict(x_train)\n",
    "\n",
    "print(f'The confusion matrix is:\\n {confusion_matrix(y_train,y_train_pred)}')\n",
    "print(f'The accuracy score on the circles is: {accuracy_score(y_train[0:num_shape,0],y_train_pred[0:num_shape])*100:.2f}%')\n",
    "print(f'The accuracy score on the rectangles is: {accuracy_score(y_train[num_shape:2*num_shape,0],y_train_pred[num_shape:2*num_shape])*100:.2f}%')\n",
    "print(f'The accuracy score on the squares is: {accuracy_score(y_train[2*num_shape:3*num_shape,0],y_train_pred[2*num_shape:3*num_shape])*100:.2f}%')\n",
    "print(f'The accuracy score on the training data set is: {accuracy_score(y_train,y_train_pred)*100:.2f}%')"
   ]
  },
  {
   "cell_type": "markdown",
   "metadata": {},
   "source": [
    "Testing analysis"
   ]
  },
  {
   "cell_type": "code",
   "execution_count": 10,
   "metadata": {},
   "outputs": [
    {
     "name": "stdout",
     "output_type": "stream",
     "text": [
      "The confusion matrix is:\n",
      " [[17  0  1]\n",
      " [ 0 17  1]\n",
      " [ 1  0 17]]\n",
      "The accuracy score on the circles is: 94.44%\n",
      "The accuracy score on the rectangles is: 94.44%\n",
      "The accuracy score on the squares is: 94.44%\n",
      "The accuracy score on the entire training dataset is: 94.44%\n"
     ]
    }
   ],
   "source": [
    "# define testing folder path\n",
    "testing_folder = r\"C:\\Users\\zachk\\Documents\\ubco\\year5\\ubc_term1\\engr418\\project\\Lego_dataset_1\\testing\"\n",
    "# store the returned data from get_data as x_test, y_test, num_shape\n",
    "x_test, y_test, num_shape = get_data(testing_folder,im_width,im_length) \n",
    "\n",
    "def test_function(folder, im_width, im_length):\n",
    "\n",
    "    # create list of file names inside folder\n",
    "    file_names = os.listdir(folder)\n",
    "    # intialize np array to store feature data\n",
    "    x = np.empty((len(file_names),im_width*im_length))\n",
    "    # initialize np array to store class labels\n",
    "    y = np.empty((len(file_names),1))\n",
    "    \n",
    "    num_cir = 0 # number of images that are labelled as class circle\n",
    "    num_rec = 0 # number of images that are labelled as class rectangle\n",
    "    num_squ = 0 # number of images that are labelled as class square\n",
    "    \n",
    "    for i in range(len(file_names)):\n",
    "       \n",
    "        # fill class labels array\n",
    "        if 'cir' in file_names[i]:\n",
    "            y[i] = 0 # class circle\n",
    "            num_cir = num_cir + 1 # keep running count of cirlce labels\n",
    "        elif 'rec' in file_names[i]: \n",
    "            y[i] = 1 # class rectangle\n",
    "            num_rec = num_rec + 1 # keep running count of rectangle labels\n",
    "        elif 'squ' in file_names[i]: \n",
    "            y[i] = 2 # class square\n",
    "            num_squ = num_squ + 1 # keep running count of square labels\n",
    "            \n",
    "        # fill feature array\n",
    "        path = folder + '/' + file_names[i] # update path as we iterate through file_names array\n",
    "        im = Image.open(path).convert('L') # open ith image and convert to grayscale\n",
    "        im = im.resize((im_length,im_width)) # resize to specified pixel length and width\n",
    "        im_array = asarray(im) # convert to numpy array\n",
    "        x[i,:] = im_array.reshape(1,-1) # reshape to im_length*im_width columns by one row then insert as ith row in x\n",
    "    \n",
    "    # assure the folder contains an equal number of the different shapes, so only one variable (num_shape) is needed to seperate the shapes in class labels array\n",
    "    if num_cir == num_rec == num_squ:\n",
    "        num_shape = num_cir\n",
    "    else: \n",
    "        print('The number of circles, rectangles and squares in the specified folder are not equal')\n",
    "\n",
    "    y_test_pred = model.predict(x)\n",
    "    test_accuracy = accuracy_score(y,y_test_pred)\n",
    "    cir_accuracy = accuracy_score(y_test[0:num_shape,0],y_test_pred[0:num_shape])\n",
    "    rec_accuracy = accuracy_score(y_test[num_shape:2*num_shape,0],y_test_pred[num_shape:2*num_shape])\n",
    "    squ_accuracy = accuracy_score(y_test[2*num_shape:3*num_shape,0],y_test_pred[2*num_shape:3*num_shape])\n",
    "    test_confusion = confusion_matrix(y,y_test_pred)\n",
    "    \n",
    "    return test_confusion, test_accuracy, cir_accuracy, rec_accuracy, squ_accuracy\n",
    "\n",
    "test_confusion, test_accuracy, cir_accuracy, rec_accuracy, squ_accuracy = test_function(testing_folder,im_width,im_length)\n",
    "\n",
    "\n",
    "print(f'The confusion matrix is:\\n {test_confusion}')\n",
    "print(f'The accuracy score on the circles is: {cir_accuracy*100:.2f}%')\n",
    "print(f'The accuracy score on the rectangles is: {rec_accuracy*100:.2f}%')\n",
    "print(f'The accuracy score on the squares is: {squ_accuracy*100:.2f}%')\n",
    "print(f'The accuracy score on the entire training dataset is: {test_accuracy*100:.2f}%')\n"
   ]
  },
  {
   "cell_type": "code",
   "execution_count": 16,
   "metadata": {},
   "outputs": [
    {
     "ename": "ValueError",
     "evalue": "X has 100 features, but LogisticRegression is expecting 3969 features as input.",
     "output_type": "error",
     "traceback": [
      "\u001b[1;31m---------------------------------------------------------------------------\u001b[0m",
      "\u001b[1;31mValueError\u001b[0m                                Traceback (most recent call last)",
      "Cell \u001b[1;32mIn [16], line 11\u001b[0m\n\u001b[0;32m      8\u001b[0m im_width \u001b[39m=\u001b[39m im_width_test[i]\n\u001b[0;32m      9\u001b[0m im_length \u001b[39m=\u001b[39m im_length_test[i]\n\u001b[1;32m---> 11\u001b[0m test_confusion, test_accuracy, cir_accuracy, rec_accuracy, squ_accuracy \u001b[39m=\u001b[39m test_function(testing_folder, im_width, im_length)\n\u001b[0;32m     13\u001b[0m test_confusions[i] \u001b[39m=\u001b[39m test_confusion\n\u001b[0;32m     14\u001b[0m test_accuracies[i] \u001b[39m=\u001b[39m test_accuracy\n",
      "Cell \u001b[1;32mIn [10], line 45\u001b[0m, in \u001b[0;36mtest_function\u001b[1;34m(folder, im_width, im_length)\u001b[0m\n\u001b[0;32m     42\u001b[0m \u001b[39melse\u001b[39;00m: \n\u001b[0;32m     43\u001b[0m     \u001b[39mprint\u001b[39m(\u001b[39m'\u001b[39m\u001b[39mThe number of circles, rectangles and squares in the specified folder are not equal\u001b[39m\u001b[39m'\u001b[39m)\n\u001b[1;32m---> 45\u001b[0m y_test_pred \u001b[39m=\u001b[39m model\u001b[39m.\u001b[39;49mpredict(x)\n\u001b[0;32m     46\u001b[0m test_accuracy \u001b[39m=\u001b[39m accuracy_score(y,y_test_pred)\n\u001b[0;32m     47\u001b[0m cir_accuracy \u001b[39m=\u001b[39m accuracy_score(y_test[\u001b[39m0\u001b[39m:num_shape,\u001b[39m0\u001b[39m],y_test_pred[\u001b[39m0\u001b[39m:num_shape])\n",
      "File \u001b[1;32mc:\\Users\\zachk\\AppData\\Local\\Programs\\Python\\Python310\\lib\\site-packages\\sklearn\\linear_model\\_base.py:447\u001b[0m, in \u001b[0;36mLinearClassifierMixin.predict\u001b[1;34m(self, X)\u001b[0m\n\u001b[0;32m    433\u001b[0m \u001b[39mdef\u001b[39;00m \u001b[39mpredict\u001b[39m(\u001b[39mself\u001b[39m, X):\n\u001b[0;32m    434\u001b[0m     \u001b[39m\"\"\"\u001b[39;00m\n\u001b[0;32m    435\u001b[0m \u001b[39m    Predict class labels for samples in X.\u001b[39;00m\n\u001b[0;32m    436\u001b[0m \n\u001b[1;32m   (...)\u001b[0m\n\u001b[0;32m    445\u001b[0m \u001b[39m        Vector containing the class labels for each sample.\u001b[39;00m\n\u001b[0;32m    446\u001b[0m \u001b[39m    \"\"\"\u001b[39;00m\n\u001b[1;32m--> 447\u001b[0m     scores \u001b[39m=\u001b[39m \u001b[39mself\u001b[39;49m\u001b[39m.\u001b[39;49mdecision_function(X)\n\u001b[0;32m    448\u001b[0m     \u001b[39mif\u001b[39;00m \u001b[39mlen\u001b[39m(scores\u001b[39m.\u001b[39mshape) \u001b[39m==\u001b[39m \u001b[39m1\u001b[39m:\n\u001b[0;32m    449\u001b[0m         indices \u001b[39m=\u001b[39m (scores \u001b[39m>\u001b[39m \u001b[39m0\u001b[39m)\u001b[39m.\u001b[39mastype(\u001b[39mint\u001b[39m)\n",
      "File \u001b[1;32mc:\\Users\\zachk\\AppData\\Local\\Programs\\Python\\Python310\\lib\\site-packages\\sklearn\\linear_model\\_base.py:429\u001b[0m, in \u001b[0;36mLinearClassifierMixin.decision_function\u001b[1;34m(self, X)\u001b[0m\n\u001b[0;32m    409\u001b[0m \u001b[39m\"\"\"\u001b[39;00m\n\u001b[0;32m    410\u001b[0m \u001b[39mPredict confidence scores for samples.\u001b[39;00m\n\u001b[0;32m    411\u001b[0m \n\u001b[1;32m   (...)\u001b[0m\n\u001b[0;32m    425\u001b[0m \u001b[39m    this class would be predicted.\u001b[39;00m\n\u001b[0;32m    426\u001b[0m \u001b[39m\"\"\"\u001b[39;00m\n\u001b[0;32m    427\u001b[0m check_is_fitted(\u001b[39mself\u001b[39m)\n\u001b[1;32m--> 429\u001b[0m X \u001b[39m=\u001b[39m \u001b[39mself\u001b[39;49m\u001b[39m.\u001b[39;49m_validate_data(X, accept_sparse\u001b[39m=\u001b[39;49m\u001b[39m\"\u001b[39;49m\u001b[39mcsr\u001b[39;49m\u001b[39m\"\u001b[39;49m, reset\u001b[39m=\u001b[39;49m\u001b[39mFalse\u001b[39;49;00m)\n\u001b[0;32m    430\u001b[0m scores \u001b[39m=\u001b[39m safe_sparse_dot(X, \u001b[39mself\u001b[39m\u001b[39m.\u001b[39mcoef_\u001b[39m.\u001b[39mT, dense_output\u001b[39m=\u001b[39m\u001b[39mTrue\u001b[39;00m) \u001b[39m+\u001b[39m \u001b[39mself\u001b[39m\u001b[39m.\u001b[39mintercept_\n\u001b[0;32m    431\u001b[0m \u001b[39mreturn\u001b[39;00m scores\u001b[39m.\u001b[39mravel() \u001b[39mif\u001b[39;00m scores\u001b[39m.\u001b[39mshape[\u001b[39m1\u001b[39m] \u001b[39m==\u001b[39m \u001b[39m1\u001b[39m \u001b[39melse\u001b[39;00m scores\n",
      "File \u001b[1;32mc:\\Users\\zachk\\AppData\\Local\\Programs\\Python\\Python310\\lib\\site-packages\\sklearn\\base.py:600\u001b[0m, in \u001b[0;36mBaseEstimator._validate_data\u001b[1;34m(self, X, y, reset, validate_separately, **check_params)\u001b[0m\n\u001b[0;32m    597\u001b[0m     out \u001b[39m=\u001b[39m X, y\n\u001b[0;32m    599\u001b[0m \u001b[39mif\u001b[39;00m \u001b[39mnot\u001b[39;00m no_val_X \u001b[39mand\u001b[39;00m check_params\u001b[39m.\u001b[39mget(\u001b[39m\"\u001b[39m\u001b[39mensure_2d\u001b[39m\u001b[39m\"\u001b[39m, \u001b[39mTrue\u001b[39;00m):\n\u001b[1;32m--> 600\u001b[0m     \u001b[39mself\u001b[39;49m\u001b[39m.\u001b[39;49m_check_n_features(X, reset\u001b[39m=\u001b[39;49mreset)\n\u001b[0;32m    602\u001b[0m \u001b[39mreturn\u001b[39;00m out\n",
      "File \u001b[1;32mc:\\Users\\zachk\\AppData\\Local\\Programs\\Python\\Python310\\lib\\site-packages\\sklearn\\base.py:400\u001b[0m, in \u001b[0;36mBaseEstimator._check_n_features\u001b[1;34m(self, X, reset)\u001b[0m\n\u001b[0;32m    397\u001b[0m     \u001b[39mreturn\u001b[39;00m\n\u001b[0;32m    399\u001b[0m \u001b[39mif\u001b[39;00m n_features \u001b[39m!=\u001b[39m \u001b[39mself\u001b[39m\u001b[39m.\u001b[39mn_features_in_:\n\u001b[1;32m--> 400\u001b[0m     \u001b[39mraise\u001b[39;00m \u001b[39mValueError\u001b[39;00m(\n\u001b[0;32m    401\u001b[0m         \u001b[39mf\u001b[39m\u001b[39m\"\u001b[39m\u001b[39mX has \u001b[39m\u001b[39m{\u001b[39;00mn_features\u001b[39m}\u001b[39;00m\u001b[39m features, but \u001b[39m\u001b[39m{\u001b[39;00m\u001b[39mself\u001b[39m\u001b[39m.\u001b[39m\u001b[39m__class__\u001b[39m\u001b[39m.\u001b[39m\u001b[39m__name__\u001b[39m\u001b[39m}\u001b[39;00m\u001b[39m \u001b[39m\u001b[39m\"\u001b[39m\n\u001b[0;32m    402\u001b[0m         \u001b[39mf\u001b[39m\u001b[39m\"\u001b[39m\u001b[39mis expecting \u001b[39m\u001b[39m{\u001b[39;00m\u001b[39mself\u001b[39m\u001b[39m.\u001b[39mn_features_in_\u001b[39m}\u001b[39;00m\u001b[39m features as input.\u001b[39m\u001b[39m\"\u001b[39m\n\u001b[0;32m    403\u001b[0m     )\n",
      "\u001b[1;31mValueError\u001b[0m: X has 100 features, but LogisticRegression is expecting 3969 features as input."
     ]
    }
   ],
   "source": [
    "im_width_test = [20, 25, 50, 63]\n",
    "im_length_test = [20, 25, 50, 63]\n",
    "test_confusions = []\n",
    "test_accuracies = []\n",
    "\n",
    "for i in range(4):\n",
    "\n",
    "    im_width = im_width_test[i]\n",
    "    im_length = im_length_test[i]\n",
    "\n",
    "    test_confusion, test_accuracy, cir_accuracy, rec_accuracy, squ_accuracy = test_function(testing_folder, im_width, im_length)\n",
    "\n",
    "    test_confusions[i] = test_confusion\n",
    "    test_accuracies[i] = test_accuracy"
   ]
  },
  {
   "cell_type": "code",
   "execution_count": null,
   "metadata": {},
   "outputs": [],
   "source": []
  }
 ],
 "metadata": {
  "kernelspec": {
   "display_name": "Python 3.10.5 64-bit",
   "language": "python",
   "name": "python3"
  },
  "language_info": {
   "codemirror_mode": {
    "name": "ipython",
    "version": 3
   },
   "file_extension": ".py",
   "mimetype": "text/x-python",
   "name": "python",
   "nbconvert_exporter": "python",
   "pygments_lexer": "ipython3",
   "version": "3.10.5"
  },
  "orig_nbformat": 4,
  "vscode": {
   "interpreter": {
    "hash": "42165681ab10b1bf977adfd89e4bba52bb1422075634ab4a5613df7b4316a888"
   }
  }
 },
 "nbformat": 4,
 "nbformat_minor": 2
}
